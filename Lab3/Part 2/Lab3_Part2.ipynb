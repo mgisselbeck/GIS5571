{
 "cells": [
  {
   "cell_type": "markdown",
   "metadata": {},
   "source": [
    "#### Mattie Gisselbeck (gisse015@umn.edu)\n",
    "#### Date Created: November 16, 2022\n",
    "#### Date Last Motified: November 16, 2022\n",
    "#### Description: Lab 3"
   ]
  },
  {
   "cell_type": "markdown",
   "metadata": {},
   "source": [
    "### Part 2.1\n",
    "ETL Pipeline for Extracting Weather Data from NDAWN (www.ndawn.ndsu.nodak.edu)"
   ]
  },
  {
   "cell_type": "code",
   "execution_count": 4,
   "metadata": {},
   "outputs": [],
   "source": [
    "# Part 2.1.1: Import Packages \n",
    "\n",
    "import arcpy\n",
    "import pandas as pd\n",
    "import requests"
   ]
  },
  {
   "cell_type": "code",
   "execution_count": 7,
   "metadata": {},
   "outputs": [],
   "source": [
    "# Part 2.1.2: Weather Data - Last 30 Days (ndawn.ndsu.nodak.edu)\n",
    "\n",
    "url = \"https://ndawn.ndsu.nodak.edu/table.csv?station=78&station=111&station=98&station=174&station=142&station=138&station=161&station=9&station=10&station=118&station=56&station=11&station=12&station=58&station=13&station=84&station=55&station=7&station=87&station=14&station=15&station=96&station=16&station=137&station=124&station=143&station=17&station=85&station=140&station=134&station=18&station=136&station=65&station=104&station=99&station=19&station=129&station=20&station=101&station=81&station=21&station=97&station=22&station=75&station=2&station=172&station=139&station=23&station=62&station=86&station=24&station=89&station=126&station=93&station=90&station=25&station=83&station=107&station=156&station=77&station=26&station=70&station=127&station=27&station=132&station=28&station=29&station=30&station=31&station=102&station=32&station=119&station=4&station=80&station=33&station=59&station=105&station=82&station=34&station=72&station=135&station=35&station=76&station=120&station=141&station=109&station=36&station=79&station=71&station=37&station=38&station=39&station=130&station=73&station=40&station=41&station=54&station=69&station=113&station=128&station=42&station=43&station=103&station=116&station=88&station=114&station=3&station=163&station=64&station=115&station=67&station=44&station=133&station=106&station=100&station=121&station=45&station=46&station=61&station=66&station=74&station=60&station=125&station=8&station=47&station=122&station=108&station=5&station=152&station=48&station=68&station=49&station=50&station=91&station=117&station=63&station=150&station=51&station=6&station=52&station=92&station=112&station=131&station=123&station=95&station=53&station=57&station=149&station=148&station=110&variable=ddmxt&variable=ddmnt&variable=ddavt&year=2022&ttype=daily&quick_pick=30_d&begin_date=2022-11-26&end_date=2022-11-26\""
   ]
  },
  {
   "cell_type": "code",
   "execution_count": 11,
   "metadata": {},
   "outputs": [
    {
     "data": {
      "text/html": [
       "<div>\n",
       "<style scoped>\n",
       "    .dataframe tbody tr th:only-of-type {\n",
       "        vertical-align: middle;\n",
       "    }\n",
       "\n",
       "    .dataframe tbody tr th {\n",
       "        vertical-align: top;\n",
       "    }\n",
       "\n",
       "    .dataframe thead th {\n",
       "        text-align: right;\n",
       "    }\n",
       "</style>\n",
       "<table border=\"1\" class=\"dataframe\">\n",
       "  <thead>\n",
       "    <tr style=\"text-align: right;\">\n",
       "      <th></th>\n",
       "      <th>Station Name</th>\n",
       "      <th>Lat</th>\n",
       "      <th>Lon</th>\n",
       "      <th>ft</th>\n",
       "      <th>Unnamed: 4</th>\n",
       "      <th>Unnamed: 5</th>\n",
       "      <th>Unnamed: 6</th>\n",
       "      <th>Max</th>\n",
       "      <th>Unnamed: 8</th>\n",
       "      <th>Min</th>\n",
       "      <th>Unnamed: 10</th>\n",
       "      <th>Avg</th>\n",
       "      <th>Unnamed: 12</th>\n",
       "    </tr>\n",
       "  </thead>\n",
       "  <tbody>\n",
       "    <tr>\n",
       "      <th>0</th>\n",
       "      <td>Ada</td>\n",
       "      <td>47.32119</td>\n",
       "      <td>-96.51406</td>\n",
       "      <td>910</td>\n",
       "      <td>2022</td>\n",
       "      <td>10</td>\n",
       "      <td>29</td>\n",
       "      <td>60.584</td>\n",
       "      <td>NaN</td>\n",
       "      <td>30.619</td>\n",
       "      <td>NaN</td>\n",
       "      <td>45.602</td>\n",
       "      <td>NaN</td>\n",
       "    </tr>\n",
       "    <tr>\n",
       "      <th>1</th>\n",
       "      <td>Ada</td>\n",
       "      <td>47.32119</td>\n",
       "      <td>-96.51406</td>\n",
       "      <td>910</td>\n",
       "      <td>2022</td>\n",
       "      <td>10</td>\n",
       "      <td>30</td>\n",
       "      <td>58.784</td>\n",
       "      <td>NaN</td>\n",
       "      <td>22.091</td>\n",
       "      <td>NaN</td>\n",
       "      <td>40.438</td>\n",
       "      <td>NaN</td>\n",
       "    </tr>\n",
       "    <tr>\n",
       "      <th>2</th>\n",
       "      <td>Ada</td>\n",
       "      <td>47.32119</td>\n",
       "      <td>-96.51406</td>\n",
       "      <td>910</td>\n",
       "      <td>2022</td>\n",
       "      <td>10</td>\n",
       "      <td>31</td>\n",
       "      <td>64.022</td>\n",
       "      <td>NaN</td>\n",
       "      <td>35.074</td>\n",
       "      <td>NaN</td>\n",
       "      <td>49.548</td>\n",
       "      <td>NaN</td>\n",
       "    </tr>\n",
       "    <tr>\n",
       "      <th>3</th>\n",
       "      <td>Ada</td>\n",
       "      <td>47.32119</td>\n",
       "      <td>-96.51406</td>\n",
       "      <td>910</td>\n",
       "      <td>2022</td>\n",
       "      <td>11</td>\n",
       "      <td>1</td>\n",
       "      <td>70.610</td>\n",
       "      <td>NaN</td>\n",
       "      <td>27.538</td>\n",
       "      <td>NaN</td>\n",
       "      <td>49.074</td>\n",
       "      <td>NaN</td>\n",
       "    </tr>\n",
       "    <tr>\n",
       "      <th>4</th>\n",
       "      <td>Ada</td>\n",
       "      <td>47.32119</td>\n",
       "      <td>-96.51406</td>\n",
       "      <td>910</td>\n",
       "      <td>2022</td>\n",
       "      <td>11</td>\n",
       "      <td>2</td>\n",
       "      <td>68.216</td>\n",
       "      <td>NaN</td>\n",
       "      <td>51.998</td>\n",
       "      <td>NaN</td>\n",
       "      <td>60.107</td>\n",
       "      <td>NaN</td>\n",
       "    </tr>\n",
       "  </tbody>\n",
       "</table>\n",
       "</div>"
      ],
      "text/plain": [
       "  Station Name       Lat       Lon   ft  ...     Min  Unnamed: 10     Avg  Unnamed: 12\n",
       "0          Ada  47.32119 -96.51406  910  ...  30.619          NaN  45.602          NaN\n",
       "1          Ada  47.32119 -96.51406  910  ...  22.091          NaN  40.438          NaN\n",
       "2          Ada  47.32119 -96.51406  910  ...  35.074          NaN  49.548          NaN\n",
       "3          Ada  47.32119 -96.51406  910  ...  27.538          NaN  49.074          NaN\n",
       "4          Ada  47.32119 -96.51406  910  ...  51.998          NaN  60.107          NaN\n",
       "\n",
       "[5 rows x 13 columns]"
      ]
     },
     "execution_count": 11,
     "metadata": {},
     "output_type": "execute_result"
    }
   ],
   "source": [
    "# Part 2.1.3: Request Weather Data \n",
    "\n",
    "## Request Weather Data as a .csv \n",
    "response = requests.get(url)\n",
    "\n",
    "## Extract Weather Data into a .csv\n",
    "file_name = r'C:\\Users\\gisse015\\Documents\\ArcGIS\\Projects\\Lab3\\last_30_days.csv'\n",
    "csv = open(file_name,'w')\n",
    "csv.write(response.text)\n",
    "csv.close()\n",
    "\n",
    "## Extract CSV and Read into Dataframe\n",
    "raw_df = pd.read_csv(file_name, header=3, skiprows=[4])\n",
    "raw_df.rename(columns={'Unnamed: 0':'Station Name', 'deg':'Lat', 'deg.1':'Lon', 'Degrees F':'Max', 'Degrees F.1':'Min', 'Degrees F.2':'Avg'}, inplace=True)\n",
    "raw_df.head()"
   ]
  },
  {
   "cell_type": "code",
   "execution_count": 14,
   "metadata": {},
   "outputs": [
    {
     "data": {
      "text/html": [
       "<div>\n",
       "<style scoped>\n",
       "    .dataframe tbody tr th:only-of-type {\n",
       "        vertical-align: middle;\n",
       "    }\n",
       "\n",
       "    .dataframe tbody tr th {\n",
       "        vertical-align: top;\n",
       "    }\n",
       "\n",
       "    .dataframe thead th {\n",
       "        text-align: right;\n",
       "    }\n",
       "</style>\n",
       "<table border=\"1\" class=\"dataframe\">\n",
       "  <thead>\n",
       "    <tr style=\"text-align: right;\">\n",
       "      <th></th>\n",
       "      <th>Lat</th>\n",
       "      <th>Lon</th>\n",
       "      <th>Max</th>\n",
       "      <th>Min</th>\n",
       "      <th>Avg</th>\n",
       "    </tr>\n",
       "    <tr>\n",
       "      <th>Station Name</th>\n",
       "      <th></th>\n",
       "      <th></th>\n",
       "      <th></th>\n",
       "      <th></th>\n",
       "      <th></th>\n",
       "    </tr>\n",
       "  </thead>\n",
       "  <tbody>\n",
       "    <tr>\n",
       "      <th>Ada</th>\n",
       "      <td>47.321190</td>\n",
       "      <td>-96.514060</td>\n",
       "      <td>37.143000</td>\n",
       "      <td>20.608200</td>\n",
       "      <td>28.875800</td>\n",
       "    </tr>\n",
       "    <tr>\n",
       "      <th>Adams</th>\n",
       "      <td>48.499880</td>\n",
       "      <td>-98.075880</td>\n",
       "      <td>33.255900</td>\n",
       "      <td>16.112300</td>\n",
       "      <td>24.684367</td>\n",
       "    </tr>\n",
       "    <tr>\n",
       "      <th>Alamo</th>\n",
       "      <td>48.546520</td>\n",
       "      <td>-103.471860</td>\n",
       "      <td>32.186133</td>\n",
       "      <td>12.054900</td>\n",
       "      <td>22.120733</td>\n",
       "    </tr>\n",
       "    <tr>\n",
       "      <th>Alvarado</th>\n",
       "      <td>48.245942</td>\n",
       "      <td>-97.021532</td>\n",
       "      <td>35.760833</td>\n",
       "      <td>18.489367</td>\n",
       "      <td>27.125367</td>\n",
       "    </tr>\n",
       "    <tr>\n",
       "      <th>Amidon</th>\n",
       "      <td>46.488440</td>\n",
       "      <td>-103.316290</td>\n",
       "      <td>36.632433</td>\n",
       "      <td>16.132867</td>\n",
       "      <td>26.382900</td>\n",
       "    </tr>\n",
       "  </tbody>\n",
       "</table>\n",
       "</div>"
      ],
      "text/plain": [
       "                    Lat         Lon        Max        Min        Avg\n",
       "Station Name                                                        \n",
       "Ada           47.321190  -96.514060  37.143000  20.608200  28.875800\n",
       "Adams         48.499880  -98.075880  33.255900  16.112300  24.684367\n",
       "Alamo         48.546520 -103.471860  32.186133  12.054900  22.120733\n",
       "Alvarado      48.245942  -97.021532  35.760833  18.489367  27.125367\n",
       "Amidon        46.488440 -103.316290  36.632433  16.132867  26.382900"
      ]
     },
     "execution_count": 14,
     "metadata": {},
     "output_type": "execute_result"
    }
   ],
   "source": [
    "# Create Copy of Data with Relevant Columns\n",
    "columns = ['Station Name', 'Lat', 'Lon', 'Max', 'Min', 'Avg']\n",
    "\n",
    "cleaned_df = raw_df[columns].copy()\n",
    "\n",
    "# Aggregate Data\n",
    "agg_functions = {'Lat':'first', 'Lon':'first', 'Max':'mean', 'Min':'mean', 'Avg':'mean'}\n",
    "agg_df = cleaned_df.groupby(cleaned_df['Station Name']).aggregate(agg_functions)\n",
    "\n",
    "agg_df.head()"
   ]
  },
  {
   "cell_type": "code",
   "execution_count": 16,
   "metadata": {},
   "outputs": [],
   "source": [
    "# Export Aggregated Dataframe to CSV\n",
    "\n",
    "agg_df.to_csv(r'C:\\Users\\gisse015\\Documents\\ArcGIS\\Projects\\Lab3\\aggregated_temps.csv')"
   ]
  },
  {
   "cell_type": "code",
   "execution_count": 17,
   "metadata": {},
   "outputs": [],
   "source": [
    "# Converting Weather Data to a Feature Class\n",
    "\n",
    "csv_path = r'C:\\Users\\gisse015\\Documents\\ArcGIS\\Projects\\Lab3\\aggregated_temps.csv'\n",
    "\n",
    "temperature_features = arcpy.management.XYTableToPoint(csv_path, 'station_temperatures', 'Lon', 'Lat')"
   ]
  },
  {
   "cell_type": "markdown",
   "metadata": {},
   "source": [
    "### Part 2.2: Comparing Interpolation Methods\n",
    "Examining IDW, GPI, and Kriging using 'Last 30 Days' Weather from NDAWN  "
   ]
  },
  {
   "cell_type": "code",
   "execution_count": 20,
   "metadata": {},
   "outputs": [
    {
     "data": {
      "text/html": [
       "<div class='gpresult'><h2>Messages</h2><div id='messages' data-messages='[\"Start Time: Monday, November 28, 2022 12:41:53 PM\",\"Succeeded at Monday, November 28, 2022 12:41:56 PM (Elapsed Time: 2.80 seconds)\"]' data-show='true'><div id = 'default' /></div></div>"
      ],
      "text/plain": [
       "<Result 'C:\\\\Users\\\\gisse015\\\\Documents\\\\ArcGIS\\\\Projects\\\\Lab3\\\\Lab3.gdb\\\\IDW'>"
      ]
     },
     "execution_count": 20,
     "metadata": {},
     "output_type": "execute_result"
    }
   ],
   "source": [
    "# Part 2.2.1: Inverse Distance Weighting (IDW) \n",
    "\n",
    "arcpy.ddd.Idw(\"station_temperatures\", \"Avg\", r\"C:\\Users\\gisse015\\Documents\\ArcGIS\\Projects\\Lab3\\Lab3.gdb\\IDW\", 0.0144790399999999, 2, \"VARIABLE 141\", None)"
   ]
  },
  {
   "cell_type": "code",
   "execution_count": 20,
   "metadata": {},
   "outputs": [
    {
     "data": {
      "text/html": [
       "<div class='gpresult'><h2>Messages</h2><div id='messages' data-messages='[\"Start Time: Monday, November 28, 2022 12:41:53 PM\",\"Succeeded at Monday, November 28, 2022 12:41:56 PM (Elapsed Time: 2.80 seconds)\"]' data-show='true'><div id = 'default' /></div></div>"
      ],
      "text/plain": [
       "<Result 'C:\\\\Users\\\\gisse015\\\\Documents\\\\ArcGIS\\\\Projects\\\\Lab3\\\\Lab3.gdb\\\\IDW'>"
      ]
     },
     "execution_count": 20,
     "metadata": {},
     "output_type": "execute_result"
    }
   ],
   "source": [
    "# Part 2.2.2: Kriging\n",
    "## Kriging Method: Ordinary - Semi-variogram Model: Circular\n",
    "\n",
    "arcpy.sa.Kriging(\"station_temperatures\", \"Avg\", \"Circular 0.014479 # # #\", 0.0144790399999999, \"VARIABLE 141\", None, r\"C:\\Users\\gisse015\\Documents\\ArcGIS\\Projects\\Lab3\\Lab3.gdb\\kriging\")"
   ]
  },
  {
   "cell_type": "code",
   "execution_count": null,
   "metadata": {},
   "outputs": [],
   "source": [
    "# Part 2.2.3: Global Polynomial Interpolation (GPI)\n",
    "\n",
    "arcpy.ga.GlobalPolynomialInterpolation(\"station_temperatures\", \"Avg\", \"gpi_layer\", r\"C:\\Users\\gisse015\\Documents\\ArcGIS\\Projects\\Lab3\\Lab3.gdb\\gpi_raster\", 0.0144790399999999, 1, None)"
   ]
  }
 ],
 "metadata": {
  "kernelspec": {
   "display_name": "ArcGISPro",
   "language": "Python",
   "name": "python3"
  },
  "language_info": {
   "file_extension": ".py",
   "name": "python",
   "version": "3"
  }
 },
 "nbformat": 4,
 "nbformat_minor": 2
}
