{
 "cells": [
  {
   "cell_type": "markdown",
   "metadata": {},
   "source": [
    "#### GIS 5571: ArcGIS I\n",
    "#### Lab 3 - Part 1\n",
    "#### Mattie Gisselbeck\n",
    "#### Date Created: November 2, 2022\n",
    "#### Date Last Updated: December 2, 2022"
   ]
  },
  {
   "cell_type": "markdown",
   "metadata": {},
   "source": [
    "#### Part 1.1: Import Packages and Request Data from Minnesota Geospatial Commons"
   ]
  },
  {
   "cell_type": "code",
   "execution_count": 1,
   "metadata": {},
   "outputs": [],
   "source": [
    "# Import Packages\n",
    "import arcpy\n",
    "import requests"
   ]
  },
  {
   "cell_type": "code",
   "execution_count": 2,
   "metadata": {},
   "outputs": [],
   "source": [
    "# Define Variables \n",
    "counties = \"https://resources.gisdata.mn.gov/pub/gdrs/data/pub/us_mn_state_dnr/bdry_counties_in_minnesota/shp_bdry_counties_in_minnesota.zip\"\n",
    "streams = \"https://resources.gisdata.mn.gov/pub/gdrs/data/pub/us_mn_state_pca/env_assessed_streams_2012/shp_env_assessed_streams_2012.zip\"\n",
    "landcover = \"https://resources.gisdata.mn.gov/pub/gdrs/data/pub/us_mn_state_dnr/biota_landcover_nlcd_mn_2019/tif_biota_landcover_nlcd_mn_2019.zip\"\n",
    "dem = \"https://resources.gisdata.mn.gov/pub/gdrs/data/pub/us_mn_state_dnr/elev_30m_digital_elevation_model/fgdb_elev_30m_digital_elevation_model.zip\"\n",
    "roads = \"https://resources.gisdata.mn.gov/pub/gdrs/data/pub/us_mn_state_dot/trans_roads_mndot_tis/shp_trans_roads_mndot_tis.zip\""
   ]
  },
  {
   "cell_type": "code",
   "execution_count": 3,
   "metadata": {},
   "outputs": [],
   "source": [
    "# Request and Extract County Boundaries\n",
    "c = requests.get(counties)\n",
    "with open (r'C:\\Users\\gisse015\\Documents\\ArcGIS\\Projects\\Lab2_2\\shp_bdry_counties_in_minnesota.zip', 'wb') as f:\n",
    "    f.write(c.content)\n",
    "\n",
    "with zipfile.ZipFile(\"shp_bdry_counties_in_minnesota.zip\", \"r\") as zip_ref:\n",
    "    zip_ref.extractall(r'C:\\Users\\gisse015\\Documents\\ArcGIS\\Projects\\Lab2_2')\n",
    "    \n",
    "\n",
    "# Request and Extract Streams with Strahler Stream Order\n",
    "s = requests.get(streams)\n",
    "with open (r'C:\\Users\\gisse015\\Documents\\ArcGIS\\Projects\\Lab2_2\\shp_env_assessed_stremas_2012.zip', 'wb') as f:\n",
    "    f.write(s.content)\n",
    "\n",
    "with zipfile.ZipFile(\"shp_env_assessed_stremas_2012.zip\", \"r\") as zip_ref:\n",
    "    zip_ref.extractall(r'C:\\Users\\gisse015\\Documents\\ArcGIS\\Projects\\Lab2_2')\n",
    "    \n",
    "\n",
    "# Request NLCD \n",
    "l = requests.get(landcover)\n",
    "with open (r'C:\\Users\\gisse015\\Documents\\ArcGIS\\Projects\\Lab2_2\\tif_biota_landcover_nlcd_mn_2019.zip', 'wb') as f:\n",
    "    f.write(l.content\n",
    "            \n",
    "with zipfile.ZipFile(\"tif_biota_landcover_nlcd_mn_2019.zip\", \"r\") as zip_ref:\n",
    "    zip_ref.extractall(r'C:\\Users\\gisse015\\Documents\\ArcGIS\\Projects\\Lab2_2')       \n",
    "\n",
    "\n",
    "# Request and Extract DEM\n",
    "d = requests.get(dem)\n",
    "with open (r'C:\\Users\\gisse015\\Documents\\ArcGIS\\Projects\\Lab2_2\\fgdb_elevation_30m_digital_elevation_model.zip', 'wb') as f:\n",
    "    f.write(d.content)\n",
    "    \n",
    "with zipfile.ZipFile(\"fgdb_elevation_30m_digital_elevation_model.zip\", \"r\") as zip_ref:\n",
    "    zip_ref.extractall(r'C:\\Users\\gisse015\\Documents\\ArcGIS\\Projects\\Lab2_2')"
   ]
  },
  {
   "cell_type": "markdown",
   "metadata": {},
   "source": [
    "#### Part 2.2: Create a Study Extent "
   ]
  },
  {
   "cell_type": "code",
   "execution_count": 5,
   "metadata": {},
   "outputs": [
    {
     "data": {
      "text/html": [
       "<h2>Output</h2>C:\\Users\\gisse015\\Documents\\ArcGIS\\Projects\\Lab2_2\\Lab2_2.gdb\\StudyExtent<h2>Messages</h2>Start Time: Wednesday, November 2, 2022 8:45:11 PM<br/>Succeeded at Wednesday, November 2, 2022 8:45:12 PM (Elapsed Time: 0.57 seconds)<br/><style>.rendered_html td, .rendered_html th {text-align: left;}.rendered_html tbody {border: 1px solid black;}</style>"
      ],
      "text/plain": [
       "<Result 'C:\\\\Users\\\\gisse015\\\\Documents\\\\ArcGIS\\\\Projects\\\\Lab2_2\\\\Lab2_2.gdb\\\\StudyExtent'>"
      ]
     },
     "execution_count": 5,
     "metadata": {},
     "output_type": "execute_result"
    }
   ],
   "source": [
    "# Create Study Extent (Feature Class to Feature Class)\n",
    "arcpy.conversion.FeatureClassToFeatureClass(\"mn_county_boundaries\", r\"C:\\Users\\gisse015\\Documents\\ArcGIS\\Projects\\Lab2_2\\Lab2_2.gdb\", \"StudyExtent\", \"CTY_NAME = 'Wabasha' Or CTY_NAME = 'Winona' Or CTY_NAME = 'Olmsted'\", 'AREA \"AREA\" true true false 19 Double 0 0,First,#,mn_county_boundaries,AREA,-1,-1;PERIMETER \"PERIMETER\" true true false 19 Double 0 0,First,#,mn_county_boundaries,PERIMETER,-1,-1;CTYONLY_ \"CTYONLY_\" true true false 19 Double 0 0,First,#,mn_county_boundaries,CTYONLY_,-1,-1;CTYONLY_ID \"CTYONLY_ID\" true true false 19 Double 0 0,First,#,mn_county_boundaries,CTYONLY_ID,-1,-1;COUN \"COUN\" true true false 4 Short 0 4,First,#,mn_county_boundaries,COUN,-1,-1;CTY_NAME \"CTY_NAME\" true true false 20 Text 0 0,First,#,mn_county_boundaries,CTY_NAME,0,20;CTY_ABBR \"CTY_ABBR\" true true false 4 Text 0 0,First,#,mn_county_boundaries,CTY_ABBR,0,4;CTY_FIPS \"CTY_FIPS\" true true false 4 Short 0 4,First,#,mn_county_boundaries,CTY_FIPS,-1,-1;Shape_Leng \"Shape_Leng\" true true false 19 Double 0 0,First,#,mn_county_boundaries,Shape_Leng,-1,-1;Shape_Area \"Shape_Area\" true true false 19 Double 0 0,First,#,mn_county_boundaries,Shape_Area,-1,-1', '')"
   ]
  },
  {
   "cell_type": "code",
   "execution_count": 6,
   "metadata": {},
   "outputs": [
    {
     "data": {
      "text/html": [
       "<h2>Output</h2>C:\\Users\\gisse015\\Documents\\ArcGIS\\Projects\\Lab2_2\\Lab2_2.gdb\\StudyExtent_Dissolve<h2>Messages</h2>Start Time: Wednesday, November 2, 2022 8:46:08 PM<br/>Dissolving...<br/>Succeeded at Wednesday, November 2, 2022 8:46:08 PM (Elapsed Time: 0.40 seconds)<br/><style>.rendered_html td, .rendered_html th {text-align: left;}.rendered_html tbody {border: 1px solid black;}</style>"
      ],
      "text/plain": [
       "<Result 'C:\\\\Users\\\\gisse015\\\\Documents\\\\ArcGIS\\\\Projects\\\\Lab2_2\\\\Lab2_2.gdb\\\\StudyExtent_Dissolve'>"
      ]
     },
     "execution_count": 6,
     "metadata": {},
     "output_type": "execute_result"
    }
   ],
   "source": [
    "# Dissolve County Boundaries \n",
    "arcpy.management.Dissolve(\"StudyExtent\", r\"C:\\Users\\gisse015\\Documents\\ArcGIS\\Projects\\Lab2_2\\Lab2_2.gdb\\StudyExtent_Dissolve\", None, None, \"MULTI_PART\", \"UNSPLIT_LINES\")"
   ]
  },
  {
   "cell_type": "markdown",
   "metadata": {},
   "source": [
    "#### Part 1.3: Roadway Routes "
   ]
  },
  {
   "cell_type": "code",
   "execution_count": 7,
   "metadata": {},
   "outputs": [],
   "source": [
    "# Extract by Mask\n",
    "Extract_Roads = arcpy.sa.ExtractByMask(\"NLCD_2019_Land_Cover_Impervious_Descriptor.tif\", \"StudyExtent_Dissolve\"); Extract_Roads.save(r\"C:\\Users\\gisse015\\Documents\\ArcGIS\\Projects\\Lab2_2\\Lab2_2.gdb\\Extract_Roads\")"
   ]
  },
  {
   "cell_type": "code",
   "execution_count": 8,
   "metadata": {},
   "outputs": [
    {
     "data": {
      "text/html": [
       "<h2>Output</h2>C:\\Users\\gisse015\\Documents\\ArcGIS\\Projects\\Lab2_2\\Lab2_2.gdb\\Reclass_Roads<h2>Messages</h2>Start Time: Wednesday, November 2, 2022 9:02:46 PM<br/>Succeeded at Wednesday, November 2, 2022 9:02:48 PM (Elapsed Time: 1.80 seconds)<br/><style>.rendered_html td, .rendered_html th {text-align: left;}.rendered_html tbody {border: 1px solid black;}</style>"
      ],
      "text/plain": [
       "<Result 'C:\\\\Users\\\\gisse015\\\\Documents\\\\ArcGIS\\\\Projects\\\\Lab2_2\\\\Lab2_2.gdb\\\\Reclass_Roads'>"
      ]
     },
     "execution_count": 8,
     "metadata": {},
     "output_type": "execute_result"
    }
   ],
   "source": [
    "# Reclassify Roads (Scale: 1-10) - (1: Primary, Secondary, Teriary) (2: Non-road Non-energy Impervious) (3: LCMAP Impervious) (7: Wind Turbines)\n",
    "arcpy.ddd.Reclassify(\"Extract_Roads\", \"Class_Name\", \"Unclassified 10;'Primary road' 1;'Secondary road' 1;'Tertiary road' 1;'Non-road non-energy impervious' 2;'LCMAP impervious' 3;'Wind turbines' 7\", r\"C:\\Users\\gisse015\\Documents\\ArcGIS\\Projects\\Lab2_2\\Lab2_2.gdb\\Reclass_Roads\", \"DATA\")"
   ]
  },
  {
   "cell_type": "markdown",
   "metadata": {},
   "source": [
    "#### Part 1.4: Digital Elevation Model (DEM)"
   ]
  },
  {
   "cell_type": "code",
   "execution_count": 9,
   "metadata": {},
   "outputs": [],
   "source": [
    "# Extract by Mask\n",
    "Extract_DEM = arcpy.sa.ExtractByMask(r\"C:\\Users\\gisse015\\Documents\\ArcGIS\\Projects\\Lab2_2\\elev_30m_digital_elevation_model.gdb\\digital_elevation_model_30m\", \"StudyExtent_Dissolve\"); Extract_DEM.save(r\"C:\\Users\\gisse015\\Documents\\ArcGIS\\Projects\\Lab2_2\\Lab2_2.gdb\\Extract_DEM\")"
   ]
  },
  {
   "cell_type": "code",
   "execution_count": 2,
   "metadata": {},
   "outputs": [],
   "source": [
    "# Calculate Slope\n",
    "with arcpy.EnvManager(scratchWorkspace=r\"C:\\Users\\gisse015\\Documents\\ArcGIS\\Projects\\Lab2_2\\Lab2_2.gdb\", workspace=r\"C:\\Users\\gisse015\\Documents\\ArcGIS\\Projects\\Lab2_2\\Lab2_2.gdb\"):\n",
    "    arcpy.ddd.Slope(\"Extract_DEM\", r\"C:\\Users\\gisse015\\Documents\\ArcGIS\\Projects\\Lab2_2\\Lab2_2.gdb\\DEM_Slope\", \"PERCENT_RISE\", 1, \"PLANAR\", \"METER\")"
   ]
  },
  {
   "cell_type": "code",
   "execution_count": 9,
   "metadata": {},
   "outputs": [
    {
     "data": {
      "text/html": [
       "<h2>Output</h2>C:\\Users\\gisse015\\Documents\\ArcGIS\\Projects\\Lab2_2\\Lab2_2.gdb\\Reclass_DEM_2<h2>Messages</h2>Start Time: Thursday, November 3, 2022 4:00:01 PM<br/>Succeeded at Thursday, November 3, 2022 4:00:02 PM (Elapsed Time: 1.44 seconds)<br/><style>.rendered_html td, .rendered_html th {text-align: left;}.rendered_html tbody {border: 1px solid black;}</style>"
      ],
      "text/plain": [
       "<Result 'C:\\\\Users\\\\gisse015\\\\Documents\\\\ArcGIS\\\\Projects\\\\Lab2_2\\\\Lab2_2.gdb\\\\Reclass_DEM_2'>"
      ]
     },
     "execution_count": 9,
     "metadata": {},
     "output_type": "execute_result"
    }
   ],
   "source": [
    "# Reclassify Slope (Scale: 1-10)\n",
    "arcpy.ddd.Reclassify(\"DEM_Slope\", \"VALUE\", \"0 3 1;3 6 2;6 10 3;10 15 4;15 20 8;20 25 9;25 30 10;30 40 10;40 60 10;60 100 10;100 1000 10\", r\"C:\\Users\\gisse015\\Documents\\ArcGIS\\Projects\\Lab2_2\\Lab2_2.gdb\\Reclass_DEM_2\", \"DATA\")"
   ]
  },
  {
   "cell_type": "markdown",
   "metadata": {},
   "source": [
    "### NLCD"
   ]
  },
  {
   "cell_type": "code",
   "execution_count": 13,
   "metadata": {},
   "outputs": [],
   "source": [
    "# Extract by Mask \n",
    "Extract_NLCD = arcpy.sa.ExtractByMask(r\"C:\\Users\\gisse015\\Documents\\ArcGIS\\Projects\\Lab2_2\\tif_biota_landcover_nlcd_mn_2019\\NLCD_2019_Land_Cover.tif\", \"StudyExtent_Dissolve\"); Extract_NLCD.save(r\"C:\\Users\\gisse015\\Documents\\ArcGIS\\Projects\\Lab2_2\\Lab2_2.gdb\\Extract_NLCD\")"
   ]
  },
  {
   "cell_type": "code",
   "execution_count": 14,
   "metadata": {},
   "outputs": [
    {
     "data": {
      "text/html": [
       "<h2>Output</h2>C:\\Users\\gisse015\\Documents\\ArcGIS\\Projects\\Lab2_2\\Lab2_2.gdb\\Reclass_NLCD<h2>Messages</h2>Start Time: Wednesday, November 2, 2022 9:15:01 PM<br/>Succeeded at Wednesday, November 2, 2022 9:15:03 PM (Elapsed Time: 1.53 seconds)<br/><style>.rendered_html td, .rendered_html th {text-align: left;}.rendered_html tbody {border: 1px solid black;}</style>"
      ],
      "text/plain": [
       "<Result 'C:\\\\Users\\\\gisse015\\\\Documents\\\\ArcGIS\\\\Projects\\\\Lab2_2\\\\Lab2_2.gdb\\\\Reclass_NLCD'>"
      ]
     },
     "execution_count": 14,
     "metadata": {},
     "output_type": "execute_result"
    }
   ],
   "source": [
    "# Reclassify NLCD\n",
    "arcpy.ddd.Reclassify(\"Extract_NLCD\", \"NLCD_Land\", \"'Open Water' 10;'Developed, Open Space' 2;'Developed, Low Intensity' 2;'Developed, Medium Intensity' 2;'Developed, High Intensity' 2;'Barren Land' 5;'Deciduous Forest' 7;'Evergreen Forest' 7;'Mixed Forest' 7;Shrub/Scrub 7;Herbaceous 7;Hay/Pasture 9;'Cultivated Crops' 9;'Woody Wetlands' 10;'Emergent Herbaceous Wetlands' 10\", r\"C:\\Users\\gisse015\\Documents\\ArcGIS\\Projects\\Lab2_2\\Lab2_2.gdb\\Reclass_NLCD\", \"DATA\")"
   ]
  },
  {
   "cell_type": "markdown",
   "metadata": {},
   "source": [
    "### Streams with Strahler Stream Order"
   ]
  },
  {
   "cell_type": "code",
   "execution_count": 17,
   "metadata": {},
   "outputs": [
    {
     "data": {
      "text/html": [
       "<h2>Output</h2>C:\\Users\\gisse015\\Documents\\ArcGIS\\Projects\\Lab2_2\\Lab2_2.gdb\\Streams_Clip<h2>Messages</h2>Start Time: Thursday, November 3, 2022 4:27:22 PM<br/>Analyzing input features...<br/>Dissolving clip features...<br/>Clipping input features...<br/>Succeeded at Thursday, November 3, 2022 4:27:22 PM (Elapsed Time: 0.96 seconds)<br/><style>.rendered_html td, .rendered_html th {text-align: left;}.rendered_html tbody {border: 1px solid black;}</style>"
      ],
      "text/plain": [
       "<Result 'C:\\\\Users\\\\gisse015\\\\Documents\\\\ArcGIS\\\\Projects\\\\Lab2_2\\\\Lab2_2.gdb\\\\Streams_Clip'>"
      ]
     },
     "execution_count": 17,
     "metadata": {},
     "output_type": "execute_result"
    }
   ],
   "source": [
    "# Clip Streams\n",
    "arcpy.analysis.Clip(\"streams_with_strahler_stream_order\", \"StudyExtent_Dissolve\", r\"C:\\Users\\gisse015\\Documents\\ArcGIS\\Projects\\Lab2_2\\Lab2_2.gdb\\Streams_Clip\", None)"
   ]
  },
  {
   "cell_type": "code",
   "execution_count": 19,
   "metadata": {},
   "outputs": [
    {
     "data": {
      "text/html": [
       "<h2>Output</h2>C:\\Users\\gisse015\\Documents\\ArcGIS\\Projects\\Lab2_2\\Lab2_2.gdb\\Feature_Stre1<h2>Messages</h2>Start Time: Thursday, November 3, 2022 4:30:47 PM<br/>Succeeded at Thursday, November 3, 2022 4:30:49 PM (Elapsed Time: 2.47 seconds)<br/><style>.rendered_html td, .rendered_html th {text-align: left;}.rendered_html tbody {border: 1px solid black;}</style>"
      ],
      "text/plain": [
       "<Result 'C:\\\\Users\\\\gisse015\\\\Documents\\\\ArcGIS\\\\Projects\\\\Lab2_2\\\\Lab2_2.gdb\\\\Feature_Stre1'>"
      ]
     },
     "execution_count": 19,
     "metadata": {},
     "output_type": "execute_result"
    }
   ],
   "source": [
    "# Feature to Raster \n",
    "arcpy.conversion.FeatureToRaster(\"Streams_Clip\", \"SO_VALUE\", r\"C:\\Users\\gisse015\\Documents\\ArcGIS\\Projects\\Lab2_2\\Lab2_2.gdb\\Feature_Stre1\", r\"C:\\Users\\gisse015\\Documents\\ArcGIS\\Projects\\Lab2_2\\Lab2_2.gdb\\Reclass_DEM_Slope\")"
   ]
  },
  {
   "cell_type": "code",
   "execution_count": 20,
   "metadata": {},
   "outputs": [
    {
     "data": {
      "text/html": [
       "<h2>Output</h2>C:\\Users\\gisse015\\Documents\\ArcGIS\\Projects\\Lab2_2\\Lab2_2.gdb\\Reclass_Streams<h2>Messages</h2>Start Time: Thursday, November 3, 2022 4:31:47 PM<br/>Succeeded at Thursday, November 3, 2022 4:31:50 PM (Elapsed Time: 2.95 seconds)<br/><style>.rendered_html td, .rendered_html th {text-align: left;}.rendered_html tbody {border: 1px solid black;}</style>"
      ],
      "text/plain": [
       "<Result 'C:\\\\Users\\\\gisse015\\\\Documents\\\\ArcGIS\\\\Projects\\\\Lab2_2\\\\Lab2_2.gdb\\\\Reclass_Streams'>"
      ]
     },
     "execution_count": 20,
     "metadata": {},
     "output_type": "execute_result"
    }
   ],
   "source": [
    "# Reclassify Streams\n",
    "arcpy.ddd.Reclassify(\"Feature_Stre1\", \"Value\", \"1 1;2 2;3 3;4 7;5 8;6 9;8 10\", r\"C:\\Users\\gisse015\\Documents\\ArcGIS\\Projects\\Lab2_2\\Lab2_2.gdb\\Reclass_Streams\", \"DATA\")"
   ]
  },
  {
   "cell_type": "code",
   "execution_count": 21,
   "metadata": {},
   "outputs": [
    {
     "ename": "TypeError",
     "evalue": "RasterCalculator() missing 2 required positional arguments: 'input_names' and 'expression'",
     "output_type": "error",
     "traceback": [
      "\u001b[0;31m---------------------------------------------------------------------------\u001b[0m\n\u001b[0;31mTypeError\u001b[0m                                 Traceback (most recent call last)",
      "In  \u001b[0;34m[21]\u001b[0m:\nLine \u001b[0;34m2\u001b[0m:     output_raster = arcpy.ia.RasterCalculator(\u001b[33m'\u001b[39;49;00m\u001b[33m Con(IsNull(\u001b[39;49;00m\u001b[33m\"\u001b[39;49;00m\u001b[33mReclass_Streams\u001b[39;49;00m\u001b[33m\"\u001b[39;49;00m\u001b[33m),1, \u001b[39;49;00m\u001b[33m\"\u001b[39;49;00m\u001b[33mReclass_Streams\u001b[39;49;00m\u001b[33m\"\u001b[39;49;00m\u001b[33m)\u001b[39;49;00m\u001b[33m'\u001b[39;49;00m); output_raster.save(\u001b[33mr\u001b[39;49;00m\u001b[33m\"\u001b[39;49;00m\u001b[33mc:\u001b[39;49;00m\u001b[33m\\\u001b[39;49;00m\u001b[33mUsers\u001b[39;49;00m\u001b[33m\\\u001b[39;49;00m\u001b[33mgisse015\u001b[39;49;00m\u001b[33m\\\u001b[39;49;00m\u001b[33mdocuments\u001b[39;49;00m\u001b[33m\\\u001b[39;49;00m\u001b[33mArcGIS\u001b[39;49;00m\u001b[33m\\\u001b[39;49;00m\u001b[33mProjects\u001b[39;49;00m\u001b[33m\\\u001b[39;49;00m\u001b[33mLab2_2\u001b[39;49;00m\u001b[33m\\\u001b[39;49;00m\u001b[33mLab2_2.gdb\u001b[39;49;00m\u001b[33m\\\u001b[39;49;00m\u001b[33mRC_Streams\u001b[39;49;00m\u001b[33m\"\u001b[39;49;00m)\n",
      "\u001b[0;31mTypeError\u001b[0m: RasterCalculator() missing 2 required positional arguments: 'input_names' and 'expression'\n\u001b[0;31m---------------------------------------------------------------------------\u001b[0m"
     ]
    }
   ],
   "source": [
    "# Raster Calculator (Note: Command only worked in Geoprocessing pane in ArcGIS Pro)\n",
    "output_raster = arcpy.ia.RasterCalculator(' Con(IsNull(\"Reclass_Streams\"),1, \"Reclass_Streams\")'); output_raster.save(r\"c:\\Users\\gisse015\\documents\\ArcGIS\\Projects\\Lab2_2\\Lab2_2.gdb\\RC_Streams\")"
   ]
  },
  {
   "cell_type": "markdown",
   "metadata": {},
   "source": [
    "### Part 2.7: Dory's Farm (Start Point) and Picnic Area (End Point)"
   ]
  },
  {
   "cell_type": "code",
   "execution_count": 20,
   "metadata": {},
   "outputs": [
    {
     "data": {
      "text/html": [
       "<h2>Output</h2>C:\\Users\\gisse015\\Documents\\ArcGIS\\Projects\\Lab2_2\\Lab2_2.gdb\\Start_Point<h2>Messages</h2>Start Time: Wednesday, November 2, 2022 9:33:15 PM<br/>Succeeded at Wednesday, November 2, 2022 9:33:18 PM (Elapsed Time: 2.13 seconds)<br/><style>.rendered_html td, .rendered_html th {text-align: left;}.rendered_html tbody {border: 1px solid black;}</style>"
      ],
      "text/plain": [
       "<Result 'C:\\\\Users\\\\gisse015\\\\Documents\\\\ArcGIS\\\\Projects\\\\Lab2_2\\\\Lab2_2.gdb\\\\Start_Point'>"
      ]
     },
     "execution_count": 20,
     "metadata": {},
     "output_type": "execute_result"
    }
   ],
   "source": [
    "# Dory's Farm (Start Point)\n",
    "arcpy.management.XYTableToPoint(\"Start.csv\", r\"C:\\Users\\gisse015\\Documents\\ArcGIS\\Projects\\Lab2_2\\Lab2_2.gdb\\Start_Point\", \"LONG\", \"LAT\", None, 'GEOGCS[\"GCS_WGS_1984\",DATUM[\"D_WGS_1984\",SPHEROID[\"WGS_1984\",6378137.0,298.257223563]],PRIMEM[\"Greenwich\",0.0],UNIT[\"Degree\",0.0174532925199433]];-400 -400 1000000000;-100000 10000;-100000 10000;8.98315284119521E-09;0.001;0.001;IsHighPrecision')"
   ]
  },
  {
   "cell_type": "code",
   "execution_count": 21,
   "metadata": {},
   "outputs": [
    {
     "data": {
      "text/html": [
       "<h2>Output</h2>C:\\Users\\gisse015\\Documents\\ArcGIS\\Projects\\Lab2_2\\Lab2_2.gdb\\End_Point<h2>Messages</h2>Start Time: Wednesday, November 2, 2022 9:33:23 PM<br/>Succeeded at Wednesday, November 2, 2022 9:33:27 PM (Elapsed Time: 3.97 seconds)<br/><style>.rendered_html td, .rendered_html th {text-align: left;}.rendered_html tbody {border: 1px solid black;}</style>"
      ],
      "text/plain": [
       "<Result 'C:\\\\Users\\\\gisse015\\\\Documents\\\\ArcGIS\\\\Projects\\\\Lab2_2\\\\Lab2_2.gdb\\\\End_Point'>"
      ]
     },
     "execution_count": 21,
     "metadata": {},
     "output_type": "execute_result"
    }
   ],
   "source": [
    "# Picnic Area (End Point)\n",
    "arcpy.management.XYTableToPoint(\"End.csv\", r\"C:\\Users\\gisse015\\Documents\\ArcGIS\\Projects\\Lab2_2\\Lab2_2.gdb\\End_Point\", \"LONG\", \"LAT\", None, 'GEOGCS[\"GCS_WGS_1984\",DATUM[\"D_WGS_1984\",SPHEROID[\"WGS_1984\",6378137.0,298.257223563]],PRIMEM[\"Greenwich\",0.0],UNIT[\"Degree\",0.0174532925199433]];-400 -400 1000000000;-100000 10000;-100000 10000;8.98315284119521E-09;0.001;0.001;IsHighPrecision')"
   ]
  },
  {
   "cell_type": "code",
   "execution_count": 25,
   "metadata": {},
   "outputs": [
    {
     "data": {
      "text/html": [
       "<h2>Output</h2>C:\\Users\\gisse015\\Documents\\ArcGIS\\Projects\\Lab2_2\\Lab2_2.gdb\\Start_RasterPoint<h2>Messages</h2>Start Time: Wednesday, November 2, 2022 9:36:40 PM<br/>WARNING 000117: Warning empty output generated.<br/>Succeeded at Wednesday, November 2, 2022 9:36:41 PM (Elapsed Time: 1.43 seconds)<br/><style>.rendered_html td, .rendered_html th {text-align: left;}.rendered_html tbody {border: 1px solid black;}</style>"
      ],
      "text/plain": [
       "<Result 'C:\\\\Users\\\\gisse015\\\\Documents\\\\ArcGIS\\\\Projects\\\\Lab2_2\\\\Lab2_2.gdb\\\\Start_RasterPoint'>"
      ]
     },
     "execution_count": 25,
     "metadata": {},
     "output_type": "execute_result"
    }
   ],
   "source": [
    "# Point to Raster - Dory's Farm (Start Point)\n",
    "arcpy.conversion.PointToRaster(\"Start_Point\", \"OBJECTID\", r\"C:\\Users\\gisse015\\Documents\\ArcGIS\\Projects\\Lab2_2\\Lab2_2.gdb\\Start_RasterPoint\", \"MOST_FREQUENT\", \"NONE\", None, \"BUILD\")"
   ]
  },
  {
   "cell_type": "code",
   "execution_count": 26,
   "metadata": {},
   "outputs": [
    {
     "data": {
      "text/html": [
       "<h2>Output</h2>C:\\Users\\gisse015\\Documents\\ArcGIS\\Projects\\Lab2_2\\Lab2_2.gdb\\End_RasterPoint<h2>Messages</h2>Start Time: Wednesday, November 2, 2022 9:37:15 PM<br/>WARNING 000117: Warning empty output generated.<br/>Succeeded at Wednesday, November 2, 2022 9:37:16 PM (Elapsed Time: 1.38 seconds)<br/><style>.rendered_html td, .rendered_html th {text-align: left;}.rendered_html tbody {border: 1px solid black;}</style>"
      ],
      "text/plain": [
       "<Result 'C:\\\\Users\\\\gisse015\\\\Documents\\\\ArcGIS\\\\Projects\\\\Lab2_2\\\\Lab2_2.gdb\\\\End_RasterPoint'>"
      ]
     },
     "execution_count": 26,
     "metadata": {},
     "output_type": "execute_result"
    }
   ],
   "source": [
    "# Point to Raster - Picnic Area (End Point)\n",
    "arcpy.conversion.PointToRaster(\"End_Point\", \"OBJECTID\", r\"C:\\Users\\gisse015\\Documents\\ArcGIS\\Projects\\Lab2_2\\Lab2_2.gdb\\End_RasterPoint\", \"MOST_FREQUENT\", \"NONE\", None, \"BUILD\")"
   ]
  },
  {
   "cell_type": "markdown",
   "metadata": {},
   "source": [
    "### Part 2.8: Weighted Overlay (Cost Surface)"
   ]
  },
  {
   "cell_type": "code",
   "execution_count": 22,
   "metadata": {
    "collapsed": true
   },
   "outputs": [],
   "source": [
    "# Weighted Overlay (Cost Surface)\n",
    "Cost_Surface = arcpy.sa.WeightedOverlay(\"('Raster_C' 25 'Value' (1 1; 2 2; 3 3; 7 8; 8 9; 9 10; 10 10; NODATA NODATA); 'Reclass_DEM_Slope' 25 'Value' (2 2; 3 3; 4 4; 7 8; 8 9; 10 10; NODATA NODATA); 'Reclass_NLCD' 25 'Value' (2 2; 5 6; 7 8; 9 9; 10 10; NODATA NODATA); 'Reclass_Roads' 25 'Value' (1 1; 2 2; 3 3; 7 8; 10 10; NODATA NODATA));1 10 1\"); Cost_Surface.save(r\"C:\\Users\\gisse015\\Documents\\ArcGIS\\Projects\\Lab2_2\\Lab2_2.gdb\\Weighte_Rast1\")"
   ]
  },
  {
   "cell_type": "markdown",
   "metadata": {},
   "source": [
    "### Part 2.9: Cost Distance and Cost Back Link"
   ]
  },
  {
   "cell_type": "code",
   "execution_count": null,
   "metadata": {},
   "outputs": [],
   "source": [
    "# Cost Distance\n",
    "Cost_Distance = arcpy.sa.CostDistance(\"DorysFarm\", \"out_raster\", None, r\"C:\\Users\\gisse015\\Documents\\ArcGIS\\Projects\\Lab2_2\\Lab2_2.gdb\\Direction_Raster\", None, None, None, None, ''); Cost_Distance.save(r\"C:\\Users\\gisse015\\Documents\\ArcGIS\\Projects\\Lab2_2\\Lab2_2.gdb\\CostDis\")"
   ]
  },
  {
   "cell_type": "markdown",
   "metadata": {},
   "source": [
    "### Part 2.10: Cost Path (Optimal Route for Dory)"
   ]
  },
  {
   "cell_type": "code",
   "execution_count": 1,
   "metadata": {},
   "outputs": [],
   "source": [
    "# Cost Path (Best Single) - Optimal Route for Dory\n",
    "Cost_Path = arcpy.sa.CostPath(\"PicnicArea\", \"CostDis\", \"Direction_Raster\", \"BEST_SINGLE\", \"ID\", \"INPUT_RANGE\"); Cost_Path.save(r\"C:\\Users\\gisse015\\Documents\\ArcGIS\\Projects\\Lab2_2\\Lab2_2.gdb\\CostPath\")"
   ]
  },
  {
   "cell_type": "markdown",
   "metadata": {},
   "source": [
    "## Lab 3 - Part 1: Comparing Weighting Approaches for Optimizing Cost Surface"
   ]
  },
  {
   "cell_type": "markdown",
   "metadata": {},
   "source": [
    "### Part 1.1: Cost Path B"
   ]
  },
  {
   "cell_type": "code",
   "execution_count": null,
   "metadata": {},
   "outputs": [],
   "source": [
    "# Reclassify DEM Slope\n",
    "arcpy.ddd.Reclassify(\"DEM_Slope\", \"VALUE\", \"0 12.552466 1;12.552466 31.381165 1;31.381165 54.394019 2;54.394019 81.591028 2;81.591028 108.788037 5;108.788037 133.892969 10;133.892969 156.905823 10;156.905823 179.918677 10;179.918677 209.207764 10;209.207764 263.601782 10;263.601782 533.479797 11\", r\"C:\\Users\\gisse015\\Documents\\ArcGIS\\Projects\\Lab2_2\\Lab2_2.gdb\\Reclass_DEM_2_OP\", \"DATA\")\n",
    "\n",
    "# Reclassify NLCD Land Cover\n",
    "arcpy.ddd.Reclassify(\"Extract_NLCD\", \"NLCD_Land\", \"'Open Water' 10;'Developed, Open Space' 2;'Developed, Low Intensity' 4;'Developed, Medium Intensity' 4;'Developed, High Intensity' 5;'Barren Land' 2;'Deciduous Forest' 6;'Evergreen Forest' 6;'Mixed Forest' 9;Shrub/Scrub 4;Herbaceous 5;Hay/Pasture 10;'Cultivated Crops' 10;'Woody Wetlands' 7;'Emergent Herbaceous Wetlands' 8\", r\"C:\\Users\\gisse015\\Documents\\ArcGIS\\Projects\\Lab2_2\\Lab2_2.gdb\\Reclass_NLCD_OP_2\", \"DATA\")\n",
    "\n",
    "# Cost Surface\n",
    "out_raster = arcpy.sa.WeightedOverlay(r\"('C:\\Users\\gisse015\\Documents\\ArcGIS\\Projects\\Lab2_2\\Lab2_2.gdb\\Reclass_NLCD_OP_2' 25 'Value' (2 2; 4 4; 5 5; 6 6; 7 7; 8 8; 9 9; 10 10; NODATA NODATA); 'C:\\Users\\gisse015\\Documents\\ArcGIS\\Projects\\Lab2_2\\Lab2_2.gdb\\Reclass_DEM_2_OP' 25 'Value' (1 1; 2 2; 5 5; 10 10; 11 10; NODATA NODATA); 'C:\\Users\\gisse015\\Documents\\ArcGIS\\Projects\\Lab2_2\\Lab2_2.gdb\\Raster_C' 25 'Value' (1 1; 2 2; 3 3; 7 7; 8 8; 9 9; 10 10; NODATA NODATA); 'C:\\Users\\gisse015\\Documents\\ArcGIS\\Projects\\Lab2_2\\Lab2_2.gdb\\Reclass_Roads' 25 'Value' (1 1; 2 2; 3 3; 7 7; 10 10; NODATA NODATA));1 10 1\"); out_raster.save(r\"C:\\Users\\gisse015\\Documents\\ArcGIS\\Projects\\Lab2_2\\Lab2_2.gdb\\Weighte_Recl_2\")\n",
    "\n",
    "# Cost Distance \n",
    "out_distance_raster = arcpy.sa.CostDistance(\"DorysFarm\", \"Weighte_Recl_2\", None, r\"C:\\Users\\gisse015\\Documents\\ArcGIS\\Projects\\Lab2_2\\Lab2_2.gdb\\Backlink_OP_2\", None, None, None, None, ''); out_distance_raster.save(r\"C:\\Users\\gisse015\\Documents\\ArcGIS\\Projects\\Lab2_2\\Lab2_2.gdb\\CostDis_OP_2\")\n",
    "\n",
    "# Cost Path\n",
    "out_raster = arcpy.sa.CostPath(\"PicnicArea\", \"CostDis_OP_2\", \"Backlink_OP_2\", \"EACH_CELL\", \"ID\", \"INPUT_RANGE\"); out_raster.save(r\"C:\\Users\\gisse015\\Documents\\ArcGIS\\Projects\\Lab2_2\\Lab2_2.gdb\\CostPat_Picn2\")"
   ]
  },
  {
   "cell_type": "markdown",
   "metadata": {},
   "source": [
    "#### Part 1.2: Cost Path C"
   ]
  },
  {
   "cell_type": "code",
   "execution_count": null,
   "metadata": {},
   "outputs": [],
   "source": [
    "# Reclassify NLCD Land Cover\n",
    "arcpy.ddd.Reclassify(\"Extract_NLCD\", \"NLCD_Land\", \"'Open Water' 10;'Developed, Open Space' 3;'Developed, Low Intensity' 3;'Developed, Medium Intensity' 3;'Developed, High Intensity' 3;'Barren Land' 4;'Deciduous Forest' 5;'Evergreen Forest' 5;'Mixed Forest' 6;Shrub/Scrub 5;Herbaceous 5;Hay/Pasture 10;'Cultivated Crops' 10;'Woody Wetlands' 10;'Emergent Herbaceous Wetlands' 15\", r\"C:\\Users\\gisse015\\Documents\\ArcGIS\\Projects\\Lab2_2\\Lab2_2.gdb\\Reclass_OP_3\", \"DATA\")\n",
    "\n",
    "# Cost Surface\n",
    "out_raster = arcpy.sa.WeightedOverlay(r\"('C:\\Users\\gisse015\\Documents\\ArcGIS\\Projects\\Lab2_2\\Lab2_2.gdb\\Reclass_OP_3' 34 'Value' (3 3; 4 4; 5 5; 6 6; 10 10; 15 10; NODATA NODATA); 'C:\\Users\\gisse015\\Documents\\ArcGIS\\Projects\\Lab2_2\\Lab2_2.gdb\\Raster_C' 33 'Value' (1 1; 2 2; 3 3; 7 8; 8 9; 9 10; 10 10; NODATA NODATA); 'C:\\Users\\gisse015\\Documents\\ArcGIS\\Projects\\Lab2_2\\Lab2_2.gdb\\Reclass_Roads' 33 'Value' (1 1; 2 2; 3 3; 7 7; 10 10; NODATA NODATA));1 10 1\"); out_raster.save(r\"C:\\Users\\gisse015\\Documents\\ArcGIS\\Projects\\Lab2_2\\Lab2_2.gdb\\Weighte_Recl5\")\n",
    "\n",
    "# Cost Distance\n",
    "out_distance_raster = arcpy.sa.CostDistance(\"DorysFarm\", \"Weighte_Recl5\", None, r\"C:\\Users\\gisse015\\Documents\\ArcGIS\\Projects\\Lab2_2\\Lab2_2.gdb\\BL_5\", None, None, None, None, ''); out_distance_raster.save(r\"C:\\Users\\gisse015\\Documents\\ArcGIS\\Projects\\Lab2_2\\Lab2_2.gdb\\CostDis_Dory8\")\n",
    "\n",
    "# Cost Path\n",
    "out_raster = arcpy.sa.CostPath(\"PicnicArea\", r\"C:\\Users\\gisse015\\Documents\\ArcGIS\\Projects\\Lab2_2\\Lab2_2.gdb\\CostDis_Dory8\", r\"C:\\Users\\gisse015\\Documents\\ArcGIS\\Projects\\Lab2_2\\Lab2_2.gdb\\BL_5\", \"EACH_CELL\", \"ID\", \"INPUT_RANGE\"); out_raster.save(r\"C:\\Users\\gisse015\\Documents\\ArcGIS\\Projects\\Lab2_2\\Lab2_2.gdb\\Cost_Path_3\")"
   ]
  }
 ],
 "metadata": {
  "kernelspec": {
   "display_name": "ArcGISPro",
   "language": "Python",
   "name": "python3"
  },
  "language_info": {
   "file_extension": ".py",
   "name": "python",
   "version": "3"
  }
 },
 "nbformat": 4,
 "nbformat_minor": 2
}
