{
 "cells": [
  {
   "cell_type": "markdown",
   "metadata": {},
   "source": [
    "#### Mattie Gisselbeck\n",
    "#### GIS 5571: ArcGIS I "
   ]
  },
  {
   "cell_type": "markdown",
   "metadata": {},
   "source": [
    "#### November 2, 2022\n",
    "#### Lab 2 - Part 1.3"
   ]
  },
  {
   "cell_type": "markdown",
   "metadata": {},
   "source": [
    "## Part 1.3.1: Downloads .las Files from Minnesota DNR "
   ]
  },
  {
   "cell_type": "code",
   "execution_count": 24,
   "metadata": {},
   "outputs": [],
   "source": [
    "# Import Packages\n",
    "import arcpy\n",
    "import requests\n",
    "import json\n",
    "import pprint\n",
    "import zipfile"
   ]
  },
  {
   "cell_type": "code",
   "execution_count": 25,
   "metadata": {},
   "outputs": [],
   "source": [
    "# Request .las from Minnesota DNR \n",
    "mn_dnr = \"https://resources.gisdata.mn.gov/pub/data/elevation/lidar/examples/lidar_sample/las/4342-13-03.las\"\n",
    "\n",
    "r = requests.get(mn_dnr)\n",
    "with open (r'C:\\Users\\gisse015\\Documents\\ArcGIS\\Projects\\Lab2_2\\4342-13-03.las', 'wb') as f:\n",
    "    f.write(r.content)"
   ]
  },
  {
   "cell_type": "markdown",
   "metadata": {},
   "source": [
    "### Part 1.3.2: LAS Dataset to DEM and TIN"
   ]
  },
  {
   "cell_type": "code",
   "execution_count": 26,
   "metadata": {},
   "outputs": [
    {
     "data": {
      "text/html": [
       "<h2>Output</h2>c:\\Users\\gisse015\\documents\\ArcGIS\\Projects\\Lab2_2\\Lab2_2.gdb\\dem<h2>Messages</h2>Start Time: Friday, November 4, 2022 2:30:46 PM<br/>Succeeded at Friday, November 4, 2022 2:30:49 PM (Elapsed Time: 2.41 seconds)<br/><style>.rendered_html td, .rendered_html th {text-align: left;}.rendered_html tbody {border: 1px solid black;}</style>"
      ],
      "text/plain": [
       "<Result 'c:\\\\Users\\\\gisse015\\\\documents\\\\ArcGIS\\\\Projects\\\\Lab2_2\\\\Lab2_2.gdb\\\\dem'>"
      ]
     },
     "execution_count": 26,
     "metadata": {},
     "output_type": "execute_result"
    }
   ],
   "source": [
    "# LAS Dataset to Raster (DEM)\n",
    "arcpy.conversion.LasDatasetToRaster(\"4342-13-03.las\", r\"c:\\Users\\gisse015\\documents\\ArcGIS\\Projects\\Lab2_2\\Lab2_2.gdb\\dem\", \"ELEVATION\", \"BINNING AVERAGE LINEAR\", \"FLOAT\", \"CELLSIZE\", 10, 1)"
   ]
  },
  {
   "cell_type": "code",
   "execution_count": 27,
   "metadata": {},
   "outputs": [],
   "source": [
    "# LAS Dataset to TIN\n",
    "tin = arcpy.ddd.LasDatasetToTin(\"4342-13-03.las\", r\"C:\\Users\\gisse015\\Documents\\ArcGIS\\Projects\\Lab2_2\\c4342-13-03_LasDatasetToTin2\", \"WINDOW_SIZE\", \"MIN\", 15, 5000000, 1, \"CLIP\")"
   ]
  },
  {
   "cell_type": "markdown",
   "metadata": {},
   "source": [
    "### Part 1.3.3: Export TIN and DEM to PDF"
   ]
  },
  {
   "cell_type": "code",
   "execution_count": null,
   "metadata": {},
   "outputs": [],
   "source": [
    "proj_path = r\"C:\\Users\\gisse015\\Documents\\ArcGIS\\Projects\\Lab2_2\\Lab2_2.aprx\"\n",
    "work_dir = r\"C:\\Users\\gisse015\\Documents\\ArcGIS\\Projects\\Lab2_2\\DEM.pdf\"\n",
    "\n",
    "# TIN\n",
    "aprx = arcpy.mp.ArcGISProject(proj_path)\n",
    "tin_lyt = aprx.listLayouts()[0]\n",
    "\n",
    "tin_lyt.exportToPDF(work_dir, resolution = 300)\n",
    "\n",
    "# DEM\n",
    "aprx = arcpy.mp.ArcGISProject(proj_path)\n",
    "dem_lyt = aprx.listLayouts()[0]\n",
    "\n",
    "dem_lyt.exportToPDF(work_dir, resolution = 300)"
   ]
  }
 ],
 "metadata": {
  "kernelspec": {
   "display_name": "ArcGISPro",
   "language": "Python",
   "name": "python3"
  },
  "language_info": {
   "file_extension": ".py",
   "name": "python",
   "version": "3"
  }
 },
 "nbformat": 4,
 "nbformat_minor": 2
}
