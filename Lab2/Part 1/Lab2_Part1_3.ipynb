{
 "cells": [
  {
   "cell_type": "markdown",
   "metadata": {},
   "source": [
    "#### Mattie Gisselbeck\n",
    "#### GIS 5571: ArcGIS I \n",
    "#### November 2, 2022\n",
    "#### Lab 2 - Part 1.3"
   ]
  },
  {
   "cell_type": "markdown",
   "metadata": {},
   "source": [
    "#### 1.3.1: Downloads the Annual 30-Year Normal .bil files from PRISM"
   ]
  },
  {
   "cell_type": "code",
   "execution_count": 7,
   "metadata": {},
   "outputs": [],
   "source": [
    "# Import Packages\n",
    "import arcpy\n",
    "import os\n",
    "import requests\n",
    "from zipfile import ZipFile"
   ]
  },
  {
   "cell_type": "code",
   "execution_count": 9,
   "metadata": {},
   "outputs": [],
   "source": [
    "# Setting File Paths for Outputs\n",
    "zip_path = os.path.join(os.getcwd(), \"data/PRISM\")\n",
    "file_name = os.path.join(zip_path, \"PRISM_ppt_30yr_normal_4kmM3_all_bil.zip\")\n",
    "\n",
    "# Check if Path Exists\n",
    "if os.path.exists(zip_path) == False:\n",
    "    os.mkdir(zip_path)\n",
    "\n",
    "prism_url = \"https://ftp.prism.oregonstate.edu/normals_4km/ppt/PRISM_ppt_30yr_normal_4kmM3_all_bil.zip\"\n",
    "\n",
    "resp = requests.get(prism_url)\n",
    "\n",
    "if os.path.exists(file_name) == False:\n",
    "    with open(file_name, \"wb\") as z:\n",
    "        z.write(resp.content)\n",
    "else:\n",
    "    print(\"ZIP file already exists.\")\n",
    "\n",
    "# Unzipping File\n",
    "if os.path.exists(file_name[:-3]) == False:\n",
    "    with ZipFile(file_name, \"r\") as zipped:\n",
    "        zipped.extractall(file_name[:-3])\n",
    "else:\n",
    "    print(\"File has already been unzipped.\")"
   ]
  },
  {
   "cell_type": "markdown",
   "metadata": {},
   "source": [
    "#### 1.3.2: Converts the Annual 30-Year .bil data into a Space Time Cube and Exports it to a Disk"
   ]
  },
  {
   "cell_type": "code",
   "execution_count": 12,
   "metadata": {},
   "outputs": [],
   "source": [
    "# Create Mosaic Dataset\n",
    "sr = arcpy.SpatialReference(3857)\n",
    "empty_mosaic = arcpy.management.CreateMosaicDataset(r\"C:\\Users\\gisse015\\Documents\\ArcGIS\\Projects\\Lab2_2\\Lab2_2.gdb\", \"PRISM_ALL_1_12\", sr)"
   ]
  },
  {
   "cell_type": "code",
   "execution_count": 13,
   "metadata": {},
   "outputs": [
    {
     "data": {
      "text/html": [
       "<h2>Output</h2>a Layer object<h2>Messages</h2>Start Time: Sunday, October 30, 2022 11:29:42 AM<br/>2022-10-30T11:29:43.455: Loading raster datasets<br/>2022-10-30T11:29:43.510: Completed crawling 12 data source items. Added 12 mosaic dataset items.<br/>2022-10-30T11:29:43.512: Synchronizing crawled data source items<br/>2022-10-30T11:29:43.527: Synchronizing items associated with raster type instance 'Raster Dataset' [ID: 1].<br/>2022-10-30T11:29:43.535: Distributing mosaic dataset operation across 4 parallel instances on the specified host: [UMN201960322].<br/>2022-10-30T11:29:54.173: Estimating raster statistics for mosaic dataset.<br/>2022-10-30T11:29:54.266: Completed synchronization: 12 items selected, 12 items synchronized.<br/>2022-10-30T11:29:54.388: Computing cell size levels<br/>2022-10-30T11:29:54.388: Computing unique cell size values<br/>2022-10-30T11:29:54.422: Computing maximum cell size values<br/>2022-10-30T11:29:54.425: Computing minimum cell size values<br/>2022-10-30T11:29:54.428: Updating visibility values of selected items<br/>2022-10-30T11:29:54.439: Computing maximum cell size for mosaic dataset<br/>2022-10-30T11:29:54.445: Completed computing cell size ranges.<br/>2022-10-30T11:29:54.490: Completed building boundary.<br/>Succeeded at Sunday, October 30, 2022 11:29:55 AM (Elapsed Time: 12.30 seconds)<br/><style>.rendered_html td, .rendered_html th {text-align: left;}.rendered_html tbody {border: 1px solid black;}</style>"
      ],
      "text/plain": [
       "<Result 'PRISM_ALL_1_12'>"
      ]
     },
     "execution_count": 13,
     "metadata": {},
     "output_type": "execute_result"
    }
   ],
   "source": [
    "# Add Rasters to Mosaic Dataset\n",
    "arcpy.management.AddRastersToMosaicDataset(\"PRISM_ALL_1_12\", \"Raster Dataset\", r\"C:\\Users\\gisse015\\Documents\\ArcGIS\\Projects\\Lab2_2\\PRISM_ppt_30yr_normal_4kmM3_01_bil.bil;C:\\Users\\gisse015\\Documents\\ArcGIS\\Projects\\Lab2_2\\PRISM_ppt_30yr_normal_4kmM3_02_bil.bil;C:\\Users\\gisse015\\Documents\\ArcGIS\\Projects\\Lab2_2\\PRISM_ppt_30yr_normal_4kmM3_03_bil.bil;C:\\Users\\gisse015\\Documents\\ArcGIS\\Projects\\Lab2_2\\PRISM_ppt_30yr_normal_4kmM3_04_bil.bil;C:\\Users\\gisse015\\Documents\\ArcGIS\\Projects\\Lab2_2\\PRISM_ppt_30yr_normal_4kmM3_05_bil.bil;C:\\Users\\gisse015\\Documents\\ArcGIS\\Projects\\Lab2_2\\PRISM_ppt_30yr_normal_4kmM3_06_bil.bil;C:\\Users\\gisse015\\Documents\\ArcGIS\\Projects\\Lab2_2\\PRISM_ppt_30yr_normal_4kmM3_07_bil.bil;C:\\Users\\gisse015\\Documents\\ArcGIS\\Projects\\Lab2_2\\PRISM_ppt_30yr_normal_4kmM3_08_bil.bil;C:\\Users\\gisse015\\Documents\\ArcGIS\\Projects\\Lab2_2\\PRISM_ppt_30yr_normal_4kmM3_09_bil.bil;C:\\Users\\gisse015\\Documents\\ArcGIS\\Projects\\Lab2_2\\PRISM_ppt_30yr_normal_4kmM3_10_bil.bil;C:\\Users\\gisse015\\Documents\\ArcGIS\\Projects\\Lab2_2\\PRISM_ppt_30yr_normal_4kmM3_11_bil.bil;C:\\Users\\gisse015\\Documents\\ArcGIS\\Projects\\Lab2_2\\PRISM_ppt_30yr_normal_4kmM3_12_bil.bil\", \"UPDATE_CELL_SIZES\", \"UPDATE_BOUNDARY\", \"NO_OVERVIEWS\", None, 0, 1500, None, '', \"SUBFOLDERS\", \"ALLOW_DUPLICATES\", \"BUILD_PYRAMIDS\", \"CALCULATE_STATISTICS\", \"NO_THUMBNAILS\", '', \"NO_FORCE_SPATIAL_REFERENCE\", \"ESTIMATE_STATISTICS\", None, \"NO_PIXEL_CACHE\", r\"C:\\Users\\gisse015\\AppData\\Local\\ESRI\\rasterproxies\\PRISM_ALL_1_12\")"
   ]
  },
  {
   "cell_type": "code",
   "execution_count": 17,
   "metadata": {},
   "outputs": [
    {
     "data": {
      "text/html": [
       "<h2>Output</h2>a Layer object<h2>Messages</h2>Start Time: Sunday, October 30, 2022 11:35:11 AM<br/>Adding Timestamp to AMD_PRISM_ALL_1_12_CAT...<br/>Succeeded at Sunday, October 30, 2022 11:35:12 AM (Elapsed Time: 1.05 seconds)<br/><style>.rendered_html td, .rendered_html th {text-align: left;}.rendered_html tbody {border: 1px solid black;}</style>"
      ],
      "text/plain": [
       "<Result 'PRISM_ALL_1_12'>"
      ]
     },
     "execution_count": 17,
     "metadata": {},
     "output_type": "execute_result"
    }
   ],
   "source": [
    "# Calculate Field for Variable and Timestamp\n",
    "arcpy.management.CalculateField(r\"PRISM_ALL_1_12\\Footprint\", \"Variable\", '\"PPT\"', \"PYTHON3\", '', \"TEXT\", \"NO_ENFORCE_DOMAINS\")\n",
    "arcpy.management.CalculateField(r\"PRISM_ALL_1_12\", \"Timestamp\", 'DateAdd(Date(2021, 0, 1), $feature.OBJECTID-1, \"month\")', \"ARCADE\", '', \"DATE\", \"NO_ENFORCE_DOMAINS\")"
   ]
  },
  {
   "cell_type": "code",
   "execution_count": 25,
   "metadata": {},
   "outputs": [
    {
     "data": {
      "text/html": [
       "<h2>Output</h2>a Layer object<h2>Messages</h2>Start Time: Sunday, October 30, 2022 11:44:36 AM<br/>Succeeded at Sunday, October 30, 2022 11:44:36 AM (Elapsed Time: 0.58 seconds)<br/><style>.rendered_html td, .rendered_html th {text-align: left;}.rendered_html tbody {border: 1px solid black;}</style>"
      ],
      "text/plain": [
       "<Result 'PRISM_ALL_1_12'>"
      ]
     },
     "execution_count": 25,
     "metadata": {},
     "output_type": "execute_result"
    }
   ],
   "source": [
    "# Build Multidimensional Info\n",
    "arcpy.md.BuildMultidimensionalInfo(\"PRISM_ALL_1_12\", \"Variable\", \"Timestamp # #\", \"PPT # #\", \"NO_DELETE_MULTIDIMENSIONAL_INFO\")"
   ]
  },
  {
   "cell_type": "code",
   "execution_count": 27,
   "metadata": {},
   "outputs": [
    {
     "data": {
      "text/html": [
       "<h2>Output</h2>a Layer object<h2>Messages</h2>Start Time: Sunday, October 30, 2022 11:45:27 AM<br/>Succeeded at Sunday, October 30, 2022 11:45:27 AM (Elapsed Time: 0.41 seconds)<br/><style>.rendered_html td, .rendered_html th {text-align: left;}.rendered_html tbody {border: 1px solid black;}</style>"
      ],
      "text/plain": [
       "<Result 'PRISM_ALL_1_12_MultidimLayer1'>"
      ]
     },
     "execution_count": 27,
     "metadata": {},
     "output_type": "execute_result"
    }
   ],
   "source": [
    "# Make Multidimensional Raster Later\n",
    "arcpy.md.MakeMultidimensionalRasterLayer(\"PRISM_ALL_1_12\", \"PRISM_ALL_1_12_MultidimLayer1\", \"PPT\", \"ALL\", None, None, '', '', '', None, '', \"-13917257.2777 2761917.52169259 -7400428.75412497 6435460.7179\", \"DIMENSIONS\")"
   ]
  },
  {
   "cell_type": "code",
   "execution_count": 28,
   "metadata": {},
   "outputs": [
    {
     "data": {
      "text/html": [
       "<h2>Output</h2>C:\\Users\\gisse015\\Documents\\ArcGIS\\Projects\\Lab2_2\\PRISM_STC.nc<h2>Messages</h2>Start Time: Sunday, October 30, 2022 11:46:36 AM<br/>WARNING 110296: The Input Multidimensional Raster Layer contains irregular time intervals.  The data has been binned into regular intervals of 2419200.0 seconds.<br/>WARNING 110013: The default Time Step Interval is 28 days.<br/>WARNING 110067: Your spatial reference is not compatible with CF Conventions.  You may experience difficulties using the resulting space-time cube with other NetCDF tools and software.<br/>The space time cube has aggregated 508144018 points into 1112760 fishnet grid locations over 12 time step intervals.  Each location is a 4638.31 meters by 4638.31 meters square.  The entire space time cube spans an area 6516828.52 meters west to east and 3673543.2 meters north to south.  Each of the time step intervals is 28 days in duration so the entire time period covered by the space time cube is 336 days.  Of the 1112760 total locations, 629919 (56.61%) contain at least one point for at least one time step interval.  These 629919 locations comprise 7559028 space time bins of which 13349758 (176.61%) have point counts greater than zero.  There is not a statistically significant increase or decrease in point counts over time.<br/>json:<br/>[{\"element\": \"table\", \"data\": [[{\"data\": \"Input feature time extent\", \"prop\": {\"rowspan\": 2}}, \"2021-01-01 06:00:00\"], [{\"data\": \"to 2021-12-01 06:00:00\", \"prop\": {\"text-align\": \"right\"}}], [\"\", \"\"], [\"Number of time steps\", \"12\"], [\"Time step interval\", \"28 days\"], [\"Time step alignment\", \"End\"], [\"\", \"\"], [\"First time step temporal bias\", \"7.14%\"], [{\"data\": \"First time step interval\", \"prop\": {\"rowspan\": 4}}, \"after\"], [{\"data\": \"2020-12-30 06:00:00\", \"prop\": {\"text-align\": \"right\"}}], [{\"data\": \"to on or before\", \"prop\": {\"text-align\": \"right\"}}], [{\"data\": \"2021-01-27 06:00:00\", \"prop\": {\"text-align\": \"right\"}}], [\"\", \"\"], [\"Last time step temporal bias\", \"0.00%\"], [{\"data\": \"First time step interval\", \"prop\": {\"rowspan\": 4}}, \"after\"], [{\"data\": \"2021-11-03 06:00:00\", \"prop\": {\"text-align\": \"right\"}}], [{\"data\": \"to on or before\", \"prop\": {\"text-align\": \"right\"}}], [{\"data\": \"2021-12-01 06:00:00\", \"prop\": {\"text-align\": \"right\"}}], [\"\", \"\"], [\"Cube extent across space\", \"(coordinates in meters)\"], [\"Min X\", \"-13917257.2777\"], [\"Min Y\", \"2761917.5217\"], [\"Max X\", \"-7400428.7541\"], [\"Max Y\", \"6435460.7179\"], [\"Rows\", \"792\"], [\"Columns\", \"1405\"], [\"Total bins\", \"13353120\"]], \"elementProps\": {\"striped\": \"true\", \"noHeader\": true, \"title\": \"Space Time Cube Characteristics\", \"0\": {\"align\": \"left\", \"pad\": \"0px\", \"wrap\": true}, \"1\": {\"align\": \"right\", \"pad\": \"0px\", \"wrap\": true}}}]<br/>json:<br/>[{\"element\": \"table\", \"data\": [[\"Trend direction\", \"Not Significant\"], [\"Trend statistic\", \"0.0000\"], [\"Trend p-value\", \"1.0000\"]], \"elementProps\": {\"striped\": \"true\", \"noHeader\": true, \"title\": \"Overall Data Trend - PPT_NONE_ZEROS\", \"0\": {\"align\": \"left\", \"pad\": \"0px\", \"wrap\": true}, \"1\": {\"align\": \"right\", \"pad\": \"0px\", \"wrap\": true}}}]<br/>Succeeded at Sunday, October 30, 2022 11:46:41 AM (Elapsed Time: 4.73 seconds)<br/><style>.rendered_html td, .rendered_html th {text-align: left;}.rendered_html tbody {border: 1px solid black;}</style>"
      ],
      "text/plain": [
       "<Result 'C:\\\\Users\\\\gisse015\\\\Documents\\\\ArcGIS\\\\Projects\\\\Lab2_2\\\\PRISM_STC.nc'>"
      ]
     },
     "execution_count": 28,
     "metadata": {},
     "output_type": "execute_result"
    }
   ],
   "source": [
    "# Create Space Time Cube from Multidimensional Raster Layer\n",
    "arcpy.stpm.CreateSpaceTimeCubeMDRasterLayer(\"PRISM_ALL_1_12_MultidimLayer1\", r\"C:\\Users\\gisse015\\Documents\\ArcGIS\\Projects\\Lab2_2\\PRISM_STC.nc\", \"ZEROS\")"
   ]
  },
  {
   "cell_type": "markdown",
   "metadata": {},
   "source": [
    "#### 1.3.3: Exports an Animation of the Timeseries"
   ]
  },
  {
   "cell_type": "code",
   "execution_count": 29,
   "metadata": {
    "scrolled": true
   },
   "outputs": [
    {
     "data": {
      "text/html": [
       "<h2>Output</h2>C:\\Users\\gisse015\\Documents\\ArcGIS\\Projects\\Lab2_2\\Lab2_2.gdb\\PRISM_STC_VisualizeSpaceTimeCube3D<h2>Messages</h2>Start Time: Sunday, October 30, 2022 11:51:54 AM<br/>WARNING 110044: The time it takes to render the cube in three dimensions may vary considerably based on the number of features and the graphics card associated with your CPU.<br/>WARNING 110054: If some or all of your data is not drawing, it may fall outside of the Visibility Range limits, which can be cleared. If some or all of your data is underground, you may need to turn off Elevation Surfaces.<br/>Succeeded at Sunday, October 30, 2022 11:54:57 AM (Elapsed Time: 3 minutes 2 seconds)<br/><style>.rendered_html td, .rendered_html th {text-align: left;}.rendered_html tbody {border: 1px solid black;}</style>"
      ],
      "text/plain": [
       "<Result 'C:\\\\Users\\\\gisse015\\\\Documents\\\\ArcGIS\\\\Projects\\\\Lab2_2\\\\Lab2_2.gdb\\\\PRISM_STC_VisualizeSpaceTimeCube3D'>"
      ]
     },
     "execution_count": 29,
     "metadata": {},
     "output_type": "execute_result"
    }
   ],
   "source": [
    "# Visualize Space Time Cube for Animation \n",
    "arcpy.stpm.VisualizeSpaceTimeCube3D(r\"C:\\Users\\gisse015\\Documents\\ArcGIS\\Projects\\Lab2_2\\PRISM_STC.nc\", \"PPT_NONE_ZEROS\", \"VALUE\", r\"C:\\Users\\gisse015\\Documents\\ArcGIS\\Projects\\Lab2_2\\Lab2_2.gdb\\PRISM_STC_VisualizeSpaceTimeCube3D\")"
   ]
  },
  {
   "cell_type": "code",
   "execution_count": null,
   "metadata": {},
   "outputs": [],
   "source": []
  }
 ],
 "metadata": {
  "kernelspec": {
   "display_name": "ArcGISPro",
   "language": "Python",
   "name": "python3"
  },
  "language_info": {
   "file_extension": ".py",
   "name": "python",
   "version": "3"
  }
 },
 "nbformat": 4,
 "nbformat_minor": 2
}
