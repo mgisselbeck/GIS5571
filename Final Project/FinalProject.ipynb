{
 "cells": [
  {
   "cell_type": "markdown",
   "metadata": {},
   "source": [
    "#### Mattie Gisselbeck\n",
    "#### GIS 5571: ArcGIS I (Spatial Data Science)\n",
    "#### December 19, 2022\n",
    "#### Final Project: Examing Puerto Rico's Reforestation with Spatial Statistics"
   ]
  },
  {
   "cell_type": "markdown",
   "metadata": {},
   "source": [
    "# Data Accquisition "
   ]
  },
  {
   "cell_type": "code",
   "execution_count": 16,
   "metadata": {},
   "outputs": [],
   "source": [
    "# Import Libraries \n",
    "import arcpy\n",
    "import requests\n",
    "import urllib.parse\n",
    "import urllib.request\n",
    "import os\n",
    "import json"
   ]
  },
  {
   "cell_type": "code",
   "execution_count": 32,
   "metadata": {},
   "outputs": [],
   "source": [
    "# Download Feature Layers from ArcGIS Online via Search\n",
    "import arcgis\n",
    "from arcgis.gis import GIS\n",
    "gis = GIS(None,'mgisselbeck', 'Jumponit98', verify_cert=False)\n",
    "\n",
    "# Download File by Search\n",
    "def downloadUserItems(title, downloadFormat):\n",
    "    try:\n",
    "        # Search Items by Username\n",
    "        items = gis.content.search('*:{0}'.format(item.title))\n",
    "        print(items)\n",
    "        for item in items:\n",
    "            if item.type == 'Feature Layer':\n",
    "                result = item.export('sample {}'.format(item.title), downloadFormat)\n",
    "                result.download(r'C:\\Users\\gisse015\\Documents\\ArcGIS')\n",
    "                result.delete()\n",
    "                except Exception as e:\n",
    "                    print(e)\n",
    "\n",
    "downloadUserItems(title='*', downloadFormat='Shapefile')"
   ]
  },
  {
   "cell_type": "markdown",
   "metadata": {},
   "source": [
    "# Exploratory Regression "
   ]
  },
  {
   "cell_type": "code",
   "execution_count": 4,
   "metadata": {},
   "outputs": [
    {
     "data": {
      "text/html": [
       "<div class='gpresult'><h2>Messages</h2><div id='messages' data-messages='[\"Start Time: Saturday, December 17, 2022 11:44:19 AM\",\"WARNING 001605: Distances for Geographic Coordinates (degrees, minutes, seconds) are analyzed using Chordal Distances in meters.\",\"WARNING 000642: Problems reading 287 of 8682 total records.\",\"WARNING 000848: Features with bad records (only includes first 30): OBJECTID = 49, 84, 99, 103, 168, 187, 295, 325, 367, 445, 548, 550, 560, 589, 598, 635, 641, 678, 693, 701, 718, 725, 752, 757, 785, 802, 834, 866, 906, 936.\",{\"element\":\"SectionTitle\",\"data\":\"Choose 1 of 6 Summary\"},[{\"element\":\"table\",\"data\":[[\"AdjR2\",\"AICc\",\"JB\",\"K(BP)\",\"VIF\",\"SA\",\"  Model\"],[\"0.60\",\"73140.14\",\"0.00\",\"0.30\",\"1.00\",\"0.00\",\" +SLOPE***\"],[\"0.47\",\"75459.77\",\"0.00\",\"0.59\",\"1.00\",\"0.00\",\" -SOIL_PRODUCTIVITY***\"],[\"0.24\",\"78542.33\",\"0.00\",\"0.00\",\"1.00\",\"0.00\",\" +PRECIP***\"]],\"elementProps\":{\"striped\":\"true\",\"title\":\"Highest Adjusted R-Squared Results\",\"0\":{\"align\":\"right\",\"pad\":\"0px\",\"wrap\":true},\"1\":{\"align\":\"right\",\"pad\":\"0px\",\"wrap\":true},\"2\":{\"align\":\"right\",\"pad\":\"0px\",\"wrap\":true},\"3\":{\"align\":\"right\",\"pad\":\"0px\",\"wrap\":true},\"4\":{\"align\":\"right\",\"pad\":\"0px\",\"wrap\":true},\"5\":{\"align\":\"right\",\"pad\":\"0px\",\"wrap\":true},\"6\":{\"align\":\"left\",\"pad\":\"0px\",\"wrap\":true}}}],[{\"element\":\"table\",\"data\":[[\"AdjR2\",\"AICc\",\"JB\",\"K(BP)\",\"VIF\",\"SA\",\"  Model\"]],\"elementProps\":{\"striped\":\"true\",\"noHeader\":true,\"title\":\"Passing Models\",\"0\":{\"align\":\"left\",\"pad\":\"0px\",\"wrap\":true},\"1\":{\"align\":\"left\",\"pad\":\"0px\",\"wrap\":true},\"2\":{\"align\":\"left\",\"pad\":\"0px\",\"wrap\":true},\"3\":{\"align\":\"left\",\"pad\":\"0px\",\"wrap\":true},\"4\":{\"align\":\"left\",\"pad\":\"0px\",\"wrap\":true},\"5\":{\"align\":\"left\",\"pad\":\"0px\",\"wrap\":true},\"6\":{\"align\":\"left\",\"pad\":\"0px\",\"wrap\":true}}}],{\"element\":\"SectionTitle\",\"data\":\"Choose 2 of 6 Summary\"},[{\"element\":\"table\",\"data\":[[\"AdjR2\",\"AICc\",\"JB\",\"K(BP)\",\"VIF\",\"SA\",\"  Model\"],[\"0.63\",\"72350.21\",\"0.00\",\"0.00\",\"2.05\",\"0.00\",\" -SOIL_PRODUCTIVITY***  +SLOPE***\"],[\"0.63\",\"72408.17\",\"0.00\",\"0.00\",\"1.18\",\"0.00\",\" -SETTLEMENT***  +SLOPE***\"],[\"0.62\",\"72600.18\",\"0.00\",\"0.00\",\"1.25\",\"0.00\",\" +PRECIP***  +SLOPE***\"]],\"elementProps\":{\"striped\":\"true\",\"title\":\"Highest Adjusted R-Squared Results\",\"0\":{\"align\":\"right\",\"pad\":\"0px\",\"wrap\":true},\"1\":{\"align\":\"right\",\"pad\":\"0px\",\"wrap\":true},\"2\":{\"align\":\"right\",\"pad\":\"0px\",\"wrap\":true},\"3\":{\"align\":\"right\",\"pad\":\"0px\",\"wrap\":true},\"4\":{\"align\":\"right\",\"pad\":\"0px\",\"wrap\":true},\"5\":{\"align\":\"right\",\"pad\":\"0px\",\"wrap\":true},\"6\":{\"align\":\"left\",\"pad\":\"0px\",\"wrap\":true}}}],[{\"element\":\"table\",\"data\":[[\"AdjR2\",\"AICc\",\"JB\",\"K(BP)\",\"VIF\",\"SA\",\"  Model\"]],\"elementProps\":{\"striped\":\"true\",\"noHeader\":true,\"title\":\"Passing Models\",\"0\":{\"align\":\"left\",\"pad\":\"0px\",\"wrap\":true},\"1\":{\"align\":\"left\",\"pad\":\"0px\",\"wrap\":true},\"2\":{\"align\":\"left\",\"pad\":\"0px\",\"wrap\":true},\"3\":{\"align\":\"left\",\"pad\":\"0px\",\"wrap\":true},\"4\":{\"align\":\"left\",\"pad\":\"0px\",\"wrap\":true},\"5\":{\"align\":\"left\",\"pad\":\"0px\",\"wrap\":true},\"6\":{\"align\":\"left\",\"pad\":\"0px\",\"wrap\":true}}}],{\"element\":\"SectionTitle\",\"data\":\"Choose 3 of 6 Summary\"},[{\"element\":\"table\",\"data\":[[\"AdjR2\",\"AICc\",\"JB\",\"K(BP)\",\"VIF\",\"SA\",\"  Model\"],[\"0.66\",\"71627.31\",\"0.00\",\"0.00\",\"2.18\",\"0.00\",\" -SOIL_PRODUCTIVITY***  -SETTLEMENT***  +SLOPE***\"],[\"0.66\",\"71804.80\",\"0.00\",\"0.00\",\"1.43\",\"0.00\",\" +PRECIP***  -SETTLEMENT***  +SLOPE***\"],[\"0.65\",\"71879.91\",\"0.00\",\"0.00\",\"2.05\",\"0.00\",\" -SOIL_PRODUCTIVITY***  +PROTECTED***  +SLOPE***\"]],\"elementProps\":{\"striped\":\"true\",\"title\":\"Highest Adjusted R-Squared Results\",\"0\":{\"align\":\"right\",\"pad\":\"0px\",\"wrap\":true},\"1\":{\"align\":\"right\",\"pad\":\"0px\",\"wrap\":true},\"2\":{\"align\":\"right\",\"pad\":\"0px\",\"wrap\":true},\"3\":{\"align\":\"right\",\"pad\":\"0px\",\"wrap\":true},\"4\":{\"align\":\"right\",\"pad\":\"0px\",\"wrap\":true},\"5\":{\"align\":\"right\",\"pad\":\"0px\",\"wrap\":true},\"6\":{\"align\":\"left\",\"pad\":\"0px\",\"wrap\":true}}}],[{\"element\":\"table\",\"data\":[[\"AdjR2\",\"AICc\",\"JB\",\"K(BP)\",\"VIF\",\"SA\",\"  Model\"]],\"elementProps\":{\"striped\":\"true\",\"noHeader\":true,\"title\":\"Passing Models\",\"0\":{\"align\":\"left\",\"pad\":\"0px\",\"wrap\":true},\"1\":{\"align\":\"left\",\"pad\":\"0px\",\"wrap\":true},\"2\":{\"align\":\"left\",\"pad\":\"0px\",\"wrap\":true},\"3\":{\"align\":\"left\",\"pad\":\"0px\",\"wrap\":true},\"4\":{\"align\":\"left\",\"pad\":\"0px\",\"wrap\":true},\"5\":{\"align\":\"left\",\"pad\":\"0px\",\"wrap\":true},\"6\":{\"align\":\"left\",\"pad\":\"0px\",\"wrap\":true}}}],{\"element\":\"SectionTitle\",\"data\":\"Choose 4 of 6 Summary\"},[{\"element\":\"table\",\"data\":[[\"AdjR2\",\"AICc\",\"JB\",\"K(BP)\",\"VIF\",\"SA\",\"  Model\"],[\"0.68\",\"71143.78\",\"0.00\",\"0.00\",\"2.32\",\"0.00\",\" +PRECIP***  -SOIL_PRODUCTIVITY***  -SETTLEMENT***  +SLOPE***\"],[\"0.68\",\"71310.66\",\"0.08\",\"0.00\",\"2.18\",\"0.00\",\" -SOIL_PRODUCTIVITY***  -SETTLEMENT***  +PROTECTED***  +SLOPE***\"],[\"0.67\",\"71384.99\",\"0.00\",\"0.00\",\"2.19\",\"0.00\",\" +PRECIP***  -SOIL_PRODUCTIVITY***  +PROTECTED***  +SLOPE***\"]],\"elementProps\":{\"striped\":\"true\",\"title\":\"Highest Adjusted R-Squared Results\",\"0\":{\"align\":\"right\",\"pad\":\"0px\",\"wrap\":true},\"1\":{\"align\":\"right\",\"pad\":\"0px\",\"wrap\":true},\"2\":{\"align\":\"right\",\"pad\":\"0px\",\"wrap\":true},\"3\":{\"align\":\"right\",\"pad\":\"0px\",\"wrap\":true},\"4\":{\"align\":\"right\",\"pad\":\"0px\",\"wrap\":true},\"5\":{\"align\":\"right\",\"pad\":\"0px\",\"wrap\":true},\"6\":{\"align\":\"left\",\"pad\":\"0px\",\"wrap\":true}}}],[{\"element\":\"table\",\"data\":[[\"AdjR2\",\"AICc\",\"JB\",\"K(BP)\",\"VIF\",\"SA\",\"  Model\"]],\"elementProps\":{\"striped\":\"true\",\"noHeader\":true,\"title\":\"Passing Models\",\"0\":{\"align\":\"left\",\"pad\":\"0px\",\"wrap\":true},\"1\":{\"align\":\"left\",\"pad\":\"0px\",\"wrap\":true},\"2\":{\"align\":\"left\",\"pad\":\"0px\",\"wrap\":true},\"3\":{\"align\":\"left\",\"pad\":\"0px\",\"wrap\":true},\"4\":{\"align\":\"left\",\"pad\":\"0px\",\"wrap\":true},\"5\":{\"align\":\"left\",\"pad\":\"0px\",\"wrap\":true},\"6\":{\"align\":\"left\",\"pad\":\"0px\",\"wrap\":true}}}],{\"element\":\"SectionTitle\",\"data\":\"Choose 5 of 6 Summary\"},[{\"element\":\"table\",\"data\":[[\"AdjR2\",\"AICc\",\"JB\",\"K(BP)\",\"VIF\",\"SA\",\"  Model\"],[\"0.70\",\"70770.72\",\"0.00\",\"0.00\",\"2.32\",\"0.00\",\" +PRECIP***  -SOIL_PRODUCTIVITY***  -SETTLEMENT***  +PROTECTED***  +SLOPE***\"],[\"0.68\",\"71127.55\",\"0.00\",\"0.00\",\"2.44\",\"0.00\",\" +PRECIP***  -SOIL_PRODUCTIVITY***  -SETTLEMENT***  +PCTPOV***  +SLOPE***\"],[\"0.68\",\"71304.29\",\"0.00\",\"0.00\",\"2.34\",\"0.00\",\" +PRECIP***  -SOIL_PRODUCTIVITY***  +PROTECTED***  +PCTPOV***  +SLOPE***\"]],\"elementProps\":{\"striped\":\"true\",\"title\":\"Highest Adjusted R-Squared Results\",\"0\":{\"align\":\"right\",\"pad\":\"0px\",\"wrap\":true},\"1\":{\"align\":\"right\",\"pad\":\"0px\",\"wrap\":true},\"2\":{\"align\":\"right\",\"pad\":\"0px\",\"wrap\":true},\"3\":{\"align\":\"right\",\"pad\":\"0px\",\"wrap\":true},\"4\":{\"align\":\"right\",\"pad\":\"0px\",\"wrap\":true},\"5\":{\"align\":\"right\",\"pad\":\"0px\",\"wrap\":true},\"6\":{\"align\":\"left\",\"pad\":\"0px\",\"wrap\":true}}}],[{\"element\":\"table\",\"data\":[[\"AdjR2\",\"AICc\",\"JB\",\"K(BP)\",\"VIF\",\"SA\",\"  Model\"]],\"elementProps\":{\"striped\":\"true\",\"noHeader\":true,\"title\":\"Passing Models\",\"0\":{\"align\":\"left\",\"pad\":\"0px\",\"wrap\":true},\"1\":{\"align\":\"left\",\"pad\":\"0px\",\"wrap\":true},\"2\":{\"align\":\"left\",\"pad\":\"0px\",\"wrap\":true},\"3\":{\"align\":\"left\",\"pad\":\"0px\",\"wrap\":true},\"4\":{\"align\":\"left\",\"pad\":\"0px\",\"wrap\":true},\"5\":{\"align\":\"left\",\"pad\":\"0px\",\"wrap\":true},\"6\":{\"align\":\"left\",\"pad\":\"0px\",\"wrap\":true}}}],\"Writing Results to Output Table....\",\"\",{\"element\":\"SectionTitle\",\"data\":\" Exploratory Regression Global Summary (FOREST_COVER) \"},[{\"element\":\"table\",\"data\":[[\"Search Criterion\",\"Cutoff\",\"Trials\",\"# Passed\",\"% Passed\"],[\"Min Adjusted R-Squared\",\"\\u003e 0.50\",\"62\",\"44\",\"70.97\"],[\"Max Coefficient p-value\",\"\\u003c 0.05\",\"62\",\"58\",\"93.55\"],[\"Max VIF Value\",\"\\u003c 7.50\",\"62\",\"62\",\"100.00\"],[\"Min Jarque-Bera p-value\",\"\\u003e 0.10\",\"62\",\"0\",\"0.00\"],[\"Min Spatial Autocorrelation p-value\",\"\\u003e 0.10\",\"17\",\"0\",\"0.00\"]],\"elementProps\":{\"striped\":\"true\",\"title\":\"Percentage of Search Criteria Passed\",\"0\":{\"align\":\"left\",\"pad\":\"0px\",\"wrap\":true},\"1\":{\"align\":\"right\",\"pad\":\"0px\",\"wrap\":true},\"2\":{\"align\":\"right\",\"pad\":\"0px\",\"wrap\":true},\"3\":{\"align\":\"right\",\"pad\":\"0px\",\"wrap\":true},\"4\":{\"align\":\"right\",\"pad\":\"0px\",\"wrap\":true}}}],[{\"element\":\"table\",\"data\":[[\"Variable\",\"% Significant\",\"% Negative\",\"% Positive\"],[\"PRECIP\",\"100.00\",\"0.00\",\"100.00\"],[\"SOIL_PRODUCTIVITY\",\"100.00\",\"100.00\",\"0.00\"],[\"SETTLEMENT\",\"100.00\",\"100.00\",\"0.00\"],[\"PROTECTED\",\"100.00\",\"0.00\",\"100.00\"],[\"SLOPE\",\"100.00\",\"0.00\",\"100.00\"],[\"PCTPOV\",\"87.10\",\"6.45\",\"93.55\"]],\"elementProps\":{\"striped\":\"true\",\"title\":\"Summary of Variable Significance\",\"0\":{\"align\":\"left\",\"pad\":\"0px\",\"wrap\":true},\"1\":{\"align\":\"right\",\"pad\":\"0px\",\"wrap\":true},\"2\":{\"align\":\"right\",\"pad\":\"0px\",\"wrap\":true},\"3\":{\"align\":\"right\",\"pad\":\"0px\",\"wrap\":true}}}],[{\"element\":\"table\",\"data\":[[\"Variable\",\"VIF\",\"Violations\",\"Covariates\"],[\"PRECIP\",\"1.30\",\"0\",\"--------\"],[\"SOIL_PRODUCTIVITY\",\"2.09\",\"0\",\"--------\"],[\"SETTLEMENT\",\"1.26\",\"0\",\"--------\"],[\"PROTECTED\",\"1.04\",\"0\",\"--------\"],[\"PCTPOV\",\"1.13\",\"0\",\"--------\"],[\"SLOPE\",\"2.44\",\"0\",\"--------\"]],\"elementProps\":{\"striped\":\"true\",\"title\":\"Summary of Multicollinearity\",\"0\":{\"align\":\"left\",\"pad\":\"0px\",\"wrap\":true},\"1\":{\"align\":\"right\",\"pad\":\"0px\",\"wrap\":true},\"2\":{\"align\":\"right\",\"pad\":\"0px\",\"wrap\":true},\"3\":{\"align\":\"left\",\"pad\":\"0px\",\"wrap\":true}}}],[{\"element\":\"table\",\"data\":[[\"JB\",\"AdjR2\",\"AICc\",\"K(BP)\",\"VIF\",\"SA\",\"  Model\"],[\"0.083620\",\"0.677111\",\"71310.657729\",\"0.000000\",\"2.184826\",\"0.000000\",\" -SOIL_PRODUCTIVITY***  -SETTLEMENT***  +PROTECTED***  +SLOPE***\"],[\"0.081835\",\"0.677206\",\"71309.185073\",\"0.000000\",\"2.263734\",\"0.000000\",\" -SOIL_PRODUCTIVITY***  -SETTLEMENT***  +PROTECTED***  +PCTPOV*  +SLOPE***\"],[\"0.005147\",\"0.655622\",\"71851.563042\",\"0.000000\",\"2.162799\",\"0.000000\",\" -SOIL_PRODUCTIVITY***  +PROTECTED***  +PCTPOV***  +SLOPE***\"]],\"elementProps\":{\"striped\":\"true\",\"title\":\"Summary of Residual Normality (JB)\",\"0\":{\"align\":\"right\",\"pad\":\"0px\",\"wrap\":true},\"1\":{\"align\":\"right\",\"pad\":\"0px\",\"wrap\":true},\"2\":{\"align\":\"right\",\"pad\":\"0px\",\"wrap\":true},\"3\":{\"align\":\"right\",\"pad\":\"0px\",\"wrap\":true},\"4\":{\"align\":\"right\",\"pad\":\"0px\",\"wrap\":true},\"5\":{\"align\":\"right\",\"pad\":\"0px\",\"wrap\":true},\"6\":{\"align\":\"left\",\"pad\":\"0px\",\"wrap\":true}}}],[{\"element\":\"table\",\"data\":[[\"SA\",\"AdjR2\",\"AICc\",\"JB\",\"K(BP)\",\"VIF\",\"  Model\"],[\"0.000000\",\"0.697261\",\"70770.716554\",\"0.000000\",\"0.000000\",\"2.321841\",\" +PRECIP***  -SOIL_PRODUCTIVITY***  -SETTLEMENT***  +PROTECTED***  +SLOPE***\"],[\"0.000000\",\"0.684115\",\"71127.551783\",\"0.000000\",\"0.000000\",\"2.435458\",\" +PRECIP***  -SOIL_PRODUCTIVITY***  -SETTLEMENT***  +PCTPOV***  +SLOPE***\"],[\"0.000000\",\"0.683466\",\"71143.780011\",\"0.000000\",\"0.000000\",\"2.321574\",\" +PRECIP***  -SOIL_PRODUCTIVITY***  -SETTLEMENT***  +SLOPE***\"]],\"elementProps\":{\"striped\":\"true\",\"title\":\"Summary of Residual Spatial Autocorrelation (SA)\",\"0\":{\"align\":\"right\",\"pad\":\"0px\",\"wrap\":true},\"1\":{\"align\":\"right\",\"pad\":\"0px\",\"wrap\":true},\"2\":{\"align\":\"right\",\"pad\":\"0px\",\"wrap\":true},\"3\":{\"align\":\"right\",\"pad\":\"0px\",\"wrap\":true},\"4\":{\"align\":\"right\",\"pad\":\"0px\",\"wrap\":true},\"5\":{\"align\":\"right\",\"pad\":\"0px\",\"wrap\":true},\"6\":{\"align\":\"left\",\"pad\":\"0px\",\"wrap\":true}}}],[{\"element\":\"table\",\"data\":[[\"AdjR2\",\"Adjusted R-Squared\"],[\"AICc\",\"Akaike&#39;s Information Criterion\"],[\"JB\",\"Jarque-Bera p-value\"],[\"K(BP)\",\"Koenker (BP) Statistic p-value\"],[\"VIF\",\"Max Variance Inflation Factor\"],[\"SA\",\"Global Moran&#39;s I p-value\"],[\"Model\",\"Variable sign (+/-)\"],[\"Model\",\"Variable significance (* = 0.10; ** = 0.05; *** = 0.01)\"]],\"elementProps\":{\"striped\":\"true\",\"noHeader\":true,\"title\":\"Table Abbreviations\",\"0\":{\"align\":\"left\",\"pad\":\"0px\",\"wrap\":true},\"1\":{\"align\":\"left\",\"pad\":\"0px\",\"wrap\":true}}}],\"\",\"\",\"\",\"\",\"\",\"\",\"\",\"\",\"\",\"\",\"\",\"\",\"\",\"Succeeded at Saturday, December 17, 2022 11:44:38 AM (Elapsed Time: 18.33 seconds)\"]' data-show='true'><div id = 'default' /></div></div>"
      ],
      "text/plain": [
       "<Result 'C:\\\\Users\\\\gisse015\\\\Documents\\\\ArcGIS\\\\Projects\\\\PuertoRico_Script\\\\OutputReportFile.txt'>"
      ]
     },
     "execution_count": 4,
     "metadata": {},
     "output_type": "execute_result"
    }
   ],
   "source": [
    "arcpy.stats.ExploratoryRegression(\"PuertoRico_1km\", \"Forest_Cover\", \"Precip;Soil_Productivity;Settlement;Protected;PctPov;Slope\", None, r\"C:\\Users\\gisse015\\Documents\\ArcGIS\\Projects\\PuertoRico_Script\\OutputReportFile.txt\", r\"C:\\Users\\gisse015\\Documents\\ArcGIS\\Projects\\PuertoRico_Script\\PuertoRico_Script.gdb\\OutputResultsTable\", 5, 1, 0.5, 0.05, 7.5, 0.1, 0.1)"
   ]
  },
  {
   "cell_type": "markdown",
   "metadata": {},
   "source": [
    "# Hot Spot Analysis"
   ]
  },
  {
   "cell_type": "code",
   "execution_count": 5,
   "metadata": {},
   "outputs": [
    {
     "data": {
      "text/html": [
       "<div class='gpresult'><h2>Messages</h2><div id='messages' data-messages='[\"Start Time: Saturday, December 17, 2022 11:52:45 AM\",\"WARNING 001605: Distances for Geographic Coordinates (degrees, minutes, seconds) are analyzed using Chordal Distances in meters.\",\"WARNING 000853: The default neighborhood search threshold was 9168.9837 Meters.\",\"Succeeded at Saturday, December 17, 2022 11:52:51 AM (Elapsed Time: 6.64 seconds)\"]' data-show='true'><div id = 'default' /></div></div>"
      ],
      "text/plain": [
       "<Result 'C:\\\\Users\\\\gisse015\\\\Documents\\\\ArcGIS\\\\Projects\\\\PuertoRico_Script\\\\PuertoRico_Script.gdb\\\\PuertoRico_1km_HotSpots'>"
      ]
     },
     "execution_count": 5,
     "metadata": {},
     "output_type": "execute_result"
    }
   ],
   "source": [
    "# Hot Spot Analysis: Puerto Rico, Fishnet (1 km)\n",
    "arcpy.stats.HotSpots(\"PuertoRico_1km\", \"Forest_Cover\", r\"C:\\Users\\gisse015\\Documents\\ArcGIS\\Projects\\PuertoRico_Script\\PuertoRico_Script.gdb\\PuertoRico_1km_HotSpots\", \"FIXED_DISTANCE_BAND\", \"EUCLIDEAN_DISTANCE\", \"ROW\", None, None, None, \"NO_FDR\", None)"
   ]
  },
  {
   "cell_type": "code",
   "execution_count": 7,
   "metadata": {},
   "outputs": [
    {
     "data": {
      "text/html": [
       "<div class='gpresult'><h2>Messages</h2><div id='messages' data-messages='[\"Start Time: Saturday, December 17, 2022 11:55:31 AM\",\"WARNING 001605: Distances for Geographic Coordinates (degrees, minutes, seconds) are analyzed using Chordal Distances in meters.\",\"WARNING 000853: The default neighborhood search threshold was 5010.5938 Meters.\",\"Succeeded at Saturday, December 17, 2022 11:55:35 AM (Elapsed Time: 3.49 seconds)\"]' data-show='true'><div id = 'default' /></div></div>"
      ],
      "text/plain": [
       "<Result 'C:\\\\Users\\\\gisse015\\\\Documents\\\\ArcGIS\\\\Projects\\\\PuertoRico_Script\\\\PuertoRico_Script.gdb\\\\PuertoRico_5km_HotSpots'>"
      ]
     },
     "execution_count": 7,
     "metadata": {},
     "output_type": "execute_result"
    }
   ],
   "source": [
    "# Hot Spot Analysis: Puerto Rico, Fishnet (5 km)\n",
    "arcpy.stats.HotSpots(\"PuertoRico_5km\", \"Forest_Cover\", r\"C:\\Users\\gisse015\\Documents\\ArcGIS\\Projects\\PuertoRico_Script\\PuertoRico_Script.gdb\\PuertoRico_5km_HotSpots\", \"FIXED_DISTANCE_BAND\", \"EUCLIDEAN_DISTANCE\", \"ROW\", None, None, None, \"NO_FDR\", None)"
   ]
  },
  {
   "cell_type": "markdown",
   "metadata": {},
   "source": [
    "# Generalized Linear Regression (GLR)"
   ]
  },
  {
   "cell_type": "code",
   "execution_count": 8,
   "metadata": {},
   "outputs": [
    {
     "data": {
      "text/html": [
       "<div class='gpresult'><h2>Messages</h2><div id='messages' data-messages='[\"Start Time: Saturday, December 17, 2022 11:57:46 AM\",\"WARNING 001605: Distances for Geographic Coordinates (degrees, minutes, seconds) are analyzed using Chordal Distances in meters.\",\"WARNING 000642: Problems reading 287 of 8682 total records.\",\"WARNING 000848: Features with bad records (only includes first 30): OBJECTID = 49, 84, 99, 103, 168, 187, 295, 325, 367, 445, 548, 550, 560, 589, 598, 635, 641, 678, 693, 701, 718, 725, 752, 757, 785, 802, 834, 866, 906, 936.\",[{\"element\":\"table\",\"data\":[[\"Variable\",[\"Coefficient\",{\"element\":\"sup\",\"data\":\"a\"}],\"StdError\",\"t-Statistic\",[\"Probability\",{\"element\":\"sup\",\"data\":\"b\"}],\"Robust_SE\",\"Robust_t\",[\"Robust_Pr\",{\"element\":\"sup\",\"data\":\"b\"}],[\"VIF\",{\"element\":\"sup\",\"data\":\"c\"}]],[\"Intercept\",\"21.795833\",\"1.621364\",\"13.442897\",[\"0.000000\",{\"element\":\"sup\",\"data\":\"*\"}],\"1.725574\",\"12.631060\",[\"0.000000\",{\"element\":\"sup\",\"data\":\"*\"}],\"--------\"],[\"PRECIP\",\"0.013683\",\"0.000601\",\"22.755766\",[\"0.000000\",{\"element\":\"sup\",\"data\":\"*\"}],\"0.000634\",\"21.581790\",[\"0.000000\",{\"element\":\"sup\",\"data\":\"*\"}],\"1.294929\"],[\"SOIL_PRODUCTIVITY\",\"-0.061334\",\"0.002318\",\"-26.458408\",[\"0.000000\",{\"element\":\"sup\",\"data\":\"*\"}],\"0.002547\",\"-24.077603\",[\"0.000000\",{\"element\":\"sup\",\"data\":\"*\"}],\"2.092192\"],[\"SETTLEMENT\",\"-0.120801\",\"0.004361\",\"-27.703453\",[\"0.000000\",{\"element\":\"sup\",\"data\":\"*\"}],\"0.004451\",\"-27.141048\",[\"0.000000\",{\"element\":\"sup\",\"data\":\"*\"}],\"1.211823\"],[\"PCTPOV\",\"0.074029\",\"0.017334\",\"4.270636\",[\"0.000024\",{\"element\":\"sup\",\"data\":\"*\"}],\"0.016909\",\"4.378108\",[\"0.000015\",{\"element\":\"sup\",\"data\":\"*\"}],\"1.127878\"],[\"SLOPE\",\"2.210496\",\"0.046546\",\"47.490716\",[\"0.000000\",{\"element\":\"sup\",\"data\":\"*\"}],\"0.050078\",\"44.140710\",[\"0.000000\",{\"element\":\"sup\",\"data\":\"*\"}],\"2.435458\"]],\"elementProps\":{\"striped\":\"true\",\"title\":\"Summary of GLR Results [Model Type: Continuous (Gaussian/OLS)]\",\"0\":{\"align\":\"right\",\"pad\":\"0px\",\"wrap\":true},\"1\":{\"align\":\"right\",\"pad\":\"0px\",\"wrap\":true},\"2\":{\"align\":\"right\",\"pad\":\"0px\",\"wrap\":true},\"3\":{\"align\":\"right\",\"pad\":\"0px\",\"wrap\":true},\"4\":{\"align\":\"right\",\"pad\":\"0px\",\"wrap\":true},\"5\":{\"align\":\"right\",\"pad\":\"0px\",\"wrap\":true},\"6\":{\"align\":\"right\",\"pad\":\"0px\",\"wrap\":true},\"7\":{\"align\":\"right\",\"pad\":\"0px\",\"wrap\":true},\"8\":{\"align\":\"right\",\"pad\":\"0px\",\"wrap\":true}}}],[{\"element\":\"table\",\"data\":[[\"Input Features\",\"PuertoRico_1km\",\"  Dependent Variable\",\"FOREST_COVER \"],[\"Number of Observations\",\"8395\",[\"  Akaike&#39;s Information Criterion (AICc)\",{\"element\":\"sup\",\"data\":\"d\"}],\"71127.551783 \"],[[\"Multiple R-Squared\",{\"element\":\"sup\",\"data\":\"d\"}],\"0.684303\",[\"  Adjusted R-Squared\",{\"element\":\"sup\",\"data\":\"d\"}],\"0.684115 \"],[[\"Joint F-Statistic\",{\"element\":\"sup\",\"data\":\"e\"}],\"3636.794047\",\"  Prob(\\u003eF), (5,8389) degrees of freedom\",[\"0.000000\",{\"element\":\"sup\",\"data\":\"*\"}]],[[\"Joint Wald Statistic\",{\"element\":\"sup\",\"data\":\"e\"}],\"20340.811943\",\"  Prob(\\u003echi-squared), (5) degrees of freedom\",[\"0.000000\",{\"element\":\"sup\",\"data\":\"*\"}]],[[\"Koenker (BP) Statistic\",{\"element\":\"sup\",\"data\":\"f\"}],\"262.487996\",\"  Prob(\\u003echi-squared), (5) degrees of freedom\",[\"0.000000\",{\"element\":\"sup\",\"data\":\"*\"}]],[[\"Jarque-Bera Statistic\",{\"element\":\"sup\",\"data\":\"g\"}],\"64.198366\",\"  Prob(\\u003echi-squared), (2) degrees of freedom\",[\"0.000000\",{\"element\":\"sup\",\"data\":\"*\"}]]],\"elementProps\":{\"striped\":\"true\",\"noHeader\":true,\"title\":\"GLR Diagnostics\",\"0\":{\"align\":\"left\",\"pad\":\"0px\",\"wrap\":true},\"1\":{\"align\":\"right\",\"pad\":\"0px\",\"wrap\":true},\"2\":{\"align\":\"left\",\"pad\":\"0px\",\"wrap\":true},\"3\":{\"align\":\"right\",\"pad\":\"0px\",\"wrap\":true}}}],[{\"element\":\"table\",\"data\":[[\"*\",\"An asterisk next to a number indicates a statistically significant p-value (p \\u003c 0.01).\"],[\"a\",\"Coefficient: Represents the strength and type of relationship between each explanatory variable and the dependent variable.\"],[\"b\",\"Probability and Robust Probability (Robust_Pr): Asterisk (*) indicates a coefficient is statistically significant (p \\u003c 0.01); if the Koenker (BP) Statistic [f] is statistically significant, use the Robust Probability column (Robust_Pr) to determine coefficient significance.\"],[\"c\",\"Variance Inflation Factor (VIF): Large Variance Inflation Factor (VIF) values (\\u003e 7.5) indicate redundancy among explanatory variables.\"],[\"d\",\"R-Squared and Akaike&#39;s Information Criterion (AICc): Measures of model fit/performance.\"],[\"e\",\"Joint F and Wald Statistics: Asterisk (*) indicates overall model significance (p \\u003c 0.01); if the Koenker (BP) Statistic [f] is statistically significant, use the Wald Statistic to determine overall model significance.\"],[\"f\",\"Koenker (BP) Statistic: When this test is statistically significant (p \\u003c 0.01), the relationships modeled are not consistent (either due to non-stationarity or heteroskedasticity).  You should rely on the Robust Probabilities (Robust_Pr) to determine coefficient significance and on the Wald Statistic to determine overall model significance.\"],[\"g\",\"Jarque-Bera Statistic: When this test is statistically significant (p \\u003c 0.01) model predictions are biased (the residuals are not normally distributed).\"]],\"elementProps\":{\"striped\":\"true\",\"noHeader\":true,\"title\":\"Notes on Interpretation\",\"0\":{\"align\":\"center\",\"pad\":\"0px\",\"wrap\":true},\"1\":{\"align\":\"left\",\"pad\":\"0px\",\"wrap\":true}}}],\"Succeeded at Saturday, December 17, 2022 11:57:51 AM (Elapsed Time: 4.69 seconds)\"]' data-show='true'><div id = 'default' /></div></div>"
      ],
      "text/plain": [
       "<Result 'C:\\\\Users\\\\gisse015\\\\Documents\\\\ArcGIS\\\\Projects\\\\PuertoRico_Script\\\\PuertoRico_Script.gdb\\\\PuertoRico_1km_GeneralizedLinearRegression'>"
      ]
     },
     "execution_count": 8,
     "metadata": {},
     "output_type": "execute_result"
    }
   ],
   "source": [
    "arcpy.stats.GeneralizedLinearRegression(\"PuertoRico_1km\", \"Forest_Cover\", \"CONTINUOUS\", r\"C:\\Users\\gisse015\\Documents\\ArcGIS\\Projects\\PuertoRico_Script\\PuertoRico_Script.gdb\\PuertoRico_1km_GeneralizedLinearRegression\", \"Precip;Soil_Productivity;Settlement;PctPov;Slope\", None, None, None, None, None)"
   ]
  },
  {
   "cell_type": "code",
   "execution_count": 9,
   "metadata": {},
   "outputs": [
    {
     "data": {
      "text/html": [
       "<div class='gpresult'><h2>Messages</h2><div id='messages' data-messages='[\"Start Time: Saturday, December 17, 2022 11:58:52 AM\",\"WARNING 001605: Distances for Geographic Coordinates (degrees, minutes, seconds) are analyzed using Chordal Distances in meters.\",[{\"element\":\"table\",\"data\":[[\"Variable\",[\"Coefficient\",{\"element\":\"sup\",\"data\":\"a\"}],\"StdError\",\"t-Statistic\",[\"Probability\",{\"element\":\"sup\",\"data\":\"b\"}],\"Robust_SE\",\"Robust_t\",[\"Robust_Pr\",{\"element\":\"sup\",\"data\":\"b\"}],[\"VIF\",{\"element\":\"sup\",\"data\":\"c\"}]],[\"Intercept\",\"18.072381\",\"5.492164\",\"3.290576\",[\"0.001107\",{\"element\":\"sup\",\"data\":\"*\"}],\"5.816254\",\"3.107220\",[\"0.002042\",{\"element\":\"sup\",\"data\":\"*\"}],\"--------\"],[\"PRECIP\",\"0.014273\",\"0.002049\",\"6.964622\",[\"0.000000\",{\"element\":\"sup\",\"data\":\"*\"}],\"0.002115\",\"6.749667\",[\"0.000000\",{\"element\":\"sup\",\"data\":\"*\"}],\"1.483799\"],[\"SOIL_PRODUCTIVITY\",\"-0.048744\",\"0.009984\",\"-4.882168\",[\"0.000002\",{\"element\":\"sup\",\"data\":\"*\"}],\"0.010983\",\"-4.438110\",[\"0.000015\",{\"element\":\"sup\",\"data\":\"*\"}],\"2.342051\"],[\"SETTLEMENT\",\"-0.084827\",\"0.018000\",\"-4.712666\",[\"0.000005\",{\"element\":\"sup\",\"data\":\"*\"}],\"0.020455\",\"-4.147007\",[\"0.000047\",{\"element\":\"sup\",\"data\":\"*\"}],\"1.614325\"],[\"PROTECTED\",\"7.187662\",\"1.066429\",\"6.739935\",[\"0.000000\",{\"element\":\"sup\",\"data\":\"*\"}],\"1.225903\",\"5.863157\",[\"0.000000\",{\"element\":\"sup\",\"data\":\"*\"}],\"1.036702\"],[\"SLOPE\",\"2.304600\",\"0.193296\",\"11.922616\",[\"0.000000\",{\"element\":\"sup\",\"data\":\"*\"}],\"0.185565\",\"12.419353\",[\"0.000000\",{\"element\":\"sup\",\"data\":\"*\"}],\"3.081769\"]],\"elementProps\":{\"striped\":\"true\",\"title\":\"Summary of GLR Results [Model Type: Continuous (Gaussian/OLS)]\",\"0\":{\"align\":\"right\",\"pad\":\"0px\",\"wrap\":true},\"1\":{\"align\":\"right\",\"pad\":\"0px\",\"wrap\":true},\"2\":{\"align\":\"right\",\"pad\":\"0px\",\"wrap\":true},\"3\":{\"align\":\"right\",\"pad\":\"0px\",\"wrap\":true},\"4\":{\"align\":\"right\",\"pad\":\"0px\",\"wrap\":true},\"5\":{\"align\":\"right\",\"pad\":\"0px\",\"wrap\":true},\"6\":{\"align\":\"right\",\"pad\":\"0px\",\"wrap\":true},\"7\":{\"align\":\"right\",\"pad\":\"0px\",\"wrap\":true},\"8\":{\"align\":\"right\",\"pad\":\"0px\",\"wrap\":true}}}],[{\"element\":\"table\",\"data\":[[\"Input Features\",\"PuertoRico_5km\",\"  Dependent Variable\",\"FOREST_COVER \"],[\"Number of Observations\",\"386\",[\"  Akaike&#39;s Information Criterion (AICc)\",{\"element\":\"sup\",\"data\":\"d\"}],\"2983.817663 \"],[[\"Multiple R-Squared\",{\"element\":\"sup\",\"data\":\"d\"}],\"0.780447\",[\"  Adjusted R-Squared\",{\"element\":\"sup\",\"data\":\"d\"}],\"0.777558 \"],[[\"Joint F-Statistic\",{\"element\":\"sup\",\"data\":\"e\"}],\"270.157174\",\"  Prob(\\u003eF), (5,380) degrees of freedom\",[\"0.000000\",{\"element\":\"sup\",\"data\":\"*\"}]],[[\"Joint Wald Statistic\",{\"element\":\"sup\",\"data\":\"e\"}],\"1397.261300\",\"  Prob(\\u003echi-squared), (5) degrees of freedom\",[\"0.000000\",{\"element\":\"sup\",\"data\":\"*\"}]],[[\"Koenker (BP) Statistic\",{\"element\":\"sup\",\"data\":\"f\"}],\"23.246072\",\"  Prob(\\u003echi-squared), (5) degrees of freedom\",[\"0.000303\",{\"element\":\"sup\",\"data\":\"*\"}]],[[\"Jarque-Bera Statistic\",{\"element\":\"sup\",\"data\":\"g\"}],\"1.862687\",\"  Prob(\\u003echi-squared), (2) degrees of freedom\",\"0.394024 \"]],\"elementProps\":{\"striped\":\"true\",\"noHeader\":true,\"title\":\"GLR Diagnostics\",\"0\":{\"align\":\"left\",\"pad\":\"0px\",\"wrap\":true},\"1\":{\"align\":\"right\",\"pad\":\"0px\",\"wrap\":true},\"2\":{\"align\":\"left\",\"pad\":\"0px\",\"wrap\":true},\"3\":{\"align\":\"right\",\"pad\":\"0px\",\"wrap\":true}}}],[{\"element\":\"table\",\"data\":[[\"*\",\"An asterisk next to a number indicates a statistically significant p-value (p \\u003c 0.01).\"],[\"a\",\"Coefficient: Represents the strength and type of relationship between each explanatory variable and the dependent variable.\"],[\"b\",\"Probability and Robust Probability (Robust_Pr): Asterisk (*) indicates a coefficient is statistically significant (p \\u003c 0.01); if the Koenker (BP) Statistic [f] is statistically significant, use the Robust Probability column (Robust_Pr) to determine coefficient significance.\"],[\"c\",\"Variance Inflation Factor (VIF): Large Variance Inflation Factor (VIF) values (\\u003e 7.5) indicate redundancy among explanatory variables.\"],[\"d\",\"R-Squared and Akaike&#39;s Information Criterion (AICc): Measures of model fit/performance.\"],[\"e\",\"Joint F and Wald Statistics: Asterisk (*) indicates overall model significance (p \\u003c 0.01); if the Koenker (BP) Statistic [f] is statistically significant, use the Wald Statistic to determine overall model significance.\"],[\"f\",\"Koenker (BP) Statistic: When this test is statistically significant (p \\u003c 0.01), the relationships modeled are not consistent (either due to non-stationarity or heteroskedasticity).  You should rely on the Robust Probabilities (Robust_Pr) to determine coefficient significance and on the Wald Statistic to determine overall model significance.\"],[\"g\",\"Jarque-Bera Statistic: When this test is statistically significant (p \\u003c 0.01) model predictions are biased (the residuals are not normally distributed).\"]],\"elementProps\":{\"striped\":\"true\",\"noHeader\":true,\"title\":\"Notes on Interpretation\",\"0\":{\"align\":\"center\",\"pad\":\"0px\",\"wrap\":true},\"1\":{\"align\":\"left\",\"pad\":\"0px\",\"wrap\":true}}}],\"Succeeded at Saturday, December 17, 2022 11:58:56 AM (Elapsed Time: 3.49 seconds)\"]' data-show='true'><div id = 'default' /></div></div>"
      ],
      "text/plain": [
       "<Result 'C:\\\\Users\\\\gisse015\\\\Documents\\\\ArcGIS\\\\Projects\\\\PuertoRico_Script\\\\PuertoRico_Script.gdb\\\\PuertoRico_5km_GeneralizedLinearRegression'>"
      ]
     },
     "execution_count": 9,
     "metadata": {},
     "output_type": "execute_result"
    }
   ],
   "source": [
    "arcpy.stats.GeneralizedLinearRegression(\"PuertoRico_5km\", \"Forest_Cover\", \"CONTINUOUS\", r\"C:\\Users\\gisse015\\Documents\\ArcGIS\\Projects\\PuertoRico_Script\\PuertoRico_Script.gdb\\PuertoRico_5km_GeneralizedLinearRegression\", \"Precip;Soil_Productivity;Settlement;Protected;Slope\", None, None, None, None, None)"
   ]
  },
  {
   "cell_type": "markdown",
   "metadata": {},
   "source": [
    "# Spatial Autocorrelation (Global Moran's I)"
   ]
  },
  {
   "cell_type": "code",
   "execution_count": 10,
   "metadata": {},
   "outputs": [
    {
     "data": {
      "text/html": [
       "<div class='gpresult'><h2>Messages</h2><div id='messages' data-messages='[\"Start Time: Saturday, December 17, 2022 12:00:07 PM\",\"WARNING 001605: Distances for Geographic Coordinates (degrees, minutes, seconds) are analyzed using Chordal Distances in meters.\",\"WARNING 000853: The default neighborhood search threshold was 9168.9837 Meters.\",[{\"element\":\"table\",\"data\":[[\"Moran&#39;s Index\",\"0.495739\"],[\"Expected Index\",\"-0.000115\"],[\"Variance\",\"0.000002\"],[\"z-score\",\"388.780561\"],[\"p-value\",\"0.000000\"]],\"elementProps\":{\"striped\":\"true\",\"noHeader\":true,\"footnote\":[\"Distance measured in Meters\"],\"title\":\"Global Moran&#39;s I Summary\",\"0\":{\"align\":\"left\",\"pad\":\"0px\",\"wrap\":true},\"1\":{\"align\":\"left\",\"pad\":\"0px\",\"wrap\":true}}}],\"Succeeded at Saturday, December 17, 2022 12:00:15 PM (Elapsed Time: 7.40 seconds)\"]' data-show='true'><div id = 'default' /></div></div>"
      ],
      "text/plain": [
       "<Result '0.495739'>"
      ]
     },
     "execution_count": 10,
     "metadata": {},
     "output_type": "execute_result"
    }
   ],
   "source": [
    "arcpy.stats.SpatialAutocorrelation(\"PuertoRico_1km\", \"Forest_Cover\", None, \"INVERSE_DISTANCE\", \"EUCLIDEAN_DISTANCE\", \"ROW\", None, None, None)"
   ]
  },
  {
   "cell_type": "code",
   "execution_count": 11,
   "metadata": {
    "scrolled": true
   },
   "outputs": [
    {
     "data": {
      "text/html": [
       "<div class='gpresult'><h2>Messages</h2><div id='messages' data-messages='[\"Start Time: Saturday, December 17, 2022 12:00:46 PM\",\"WARNING 001605: Distances for Geographic Coordinates (degrees, minutes, seconds) are analyzed using Chordal Distances in meters.\",\"WARNING 000853: The default neighborhood search threshold was 5010.5938 Meters.\",[{\"element\":\"table\",\"data\":[[\"Moran&#39;s Index\",\"0.775456\"],[\"Expected Index\",\"-0.002597\"],[\"Variance\",\"0.002462\"],[\"z-score\",\"15.679286\"],[\"p-value\",\"0.000000\"]],\"elementProps\":{\"striped\":\"true\",\"noHeader\":true,\"footnote\":[\"Distance measured in Meters\"],\"title\":\"Global Moran&#39;s I Summary\",\"0\":{\"align\":\"left\",\"pad\":\"0px\",\"wrap\":true},\"1\":{\"align\":\"left\",\"pad\":\"0px\",\"wrap\":true}}}],\"Succeeded at Saturday, December 17, 2022 12:00:47 PM (Elapsed Time: 0.70 seconds)\"]' data-show='true'><div id = 'default' /></div></div>"
      ],
      "text/plain": [
       "<Result '0.775456'>"
      ]
     },
     "execution_count": 11,
     "metadata": {},
     "output_type": "execute_result"
    }
   ],
   "source": [
    "arcpy.stats.SpatialAutocorrelation(\"PuertoRico_5km\", \"Forest_Cover\", None, \"INVERSE_DISTANCE\", \"EUCLIDEAN_DISTANCE\", \"ROW\", None, None, None)"
   ]
  },
  {
   "cell_type": "code",
   "execution_count": 14,
   "metadata": {},
   "outputs": [
    {
     "data": {
      "text/html": [
       "<div class='gpresult'><h2>Messages</h2><div id='messages' data-messages='[\"Start Time: Saturday, December 17, 2022 12:11:31 PM\",\"WARNING 001605: Distances for Geographic Coordinates (degrees, minutes, seconds) are analyzed using Chordal Distances in meters.\",\"WARNING 000642: Problems reading 287 of 8682 total records.\",\"WARNING 000848: Features with bad records (only includes first 30): OBJECTID = 49, 84, 99, 103, 168, 187, 295, 325, 367, 445, 548, 550, 560, 589, 598, 635, 641, 678, 693, 701, 718, 725, 752, 757, 785, 802, 834, 866, 906, 936.\",[{\"element\":\"table\",\"data\":[[\"Number of Neighbors\",\"AICc\"],[\"30\",\"65857.0227\"],[\"1000\",\"68895.4533\"],[\"401\",\"68510.7913\"],[\"629\",\"68741.2563\"],[\"259\",\"68188.5866\"],[\"172\",\"67786.0573\"],[\"117\",\"67404.0212\"],[\"84\",\"67023.2209\"],[\"63\",\"66710.7326\"],[\"51\",\"66495.6415\"],[\"43\",\"66274.6613\"],[\"38\",\"66181.3929\"],[\"35\",\"65992.2314\"],[\"33\",\"65905.1100\"],[\"32\",\"65887.6409\"],[\"31\",\"65876.0260\"]],\"elementProps\":{\"striped\":\"true\",\"title\":\"Golden Search Results\",\"0\":{\"align\":\"left\",\"pad\":\"0px\",\"wrap\":true},\"1\":{\"align\":\"right\",\"pad\":\"0px\",\"wrap\":true}}}],\"\",\"WARNING 110306: The final model didn&#39;t have the lowest AICc encountered in the Golden Search Results.\",[{\"element\":\"table\",\"data\":[[\"Number of Features\",\"8395\"],[\"Dependent Variable\",\"FOREST_COVER\"],[{\"data\":\"Explanatory Variables\",\"prop\":{\"rowspan\":5}},\"PRECIP\"],[{\"data\":\"SOIL_PRODUCTIVITY\",\"prop\":{\"text-align\":\"right\"}}],[{\"data\":\"SETTLEMENT\",\"prop\":{\"text-align\":\"right\"}}],[{\"data\":\"PCTPOV\",\"prop\":{\"text-align\":\"right\"}}],[{\"data\":\"SLOPE\",\"prop\":{\"text-align\":\"right\"}}],[\"Number of Neighbors\",\"31\"]],\"elementProps\":{\"striped\":\"true\",\"noHeader\":true,\"title\":\"Analysis Details\",\"0\":{\"align\":\"left\",\"pad\":\"0px\",\"wrap\":true},\"1\":{\"align\":\"right\",\"pad\":\"0px\",\"wrap\":true}}}],[{\"element\":\"table\",\"data\":[[\"R2\",\"0.8544\"],[\"AdjR2\",\"0.8386\"],[\"AICc\",\"65876.0260\"],[\"Sigma-Squared\",\"142.8955\"],[\"Sigma-Squared MLE\",\"128.8950\"],[\"Effective Degrees of Freedom\",\"7572.4794\"],[\"Adjusted Critical Value of Pseudo-t Statistics\",\"3.4755\"]],\"elementProps\":{\"striped\":\"true\",\"noHeader\":true,\"title\":\"Model Diagnostics\",\"0\":{\"align\":\"left\",\"pad\":\"0px\",\"wrap\":true},\"1\":{\"align\":\"right\",\"pad\":\"0px\",\"wrap\":true}}}],\"\",\"Succeeded at Saturday, December 17, 2022 12:13:26 PM (Elapsed Time: 1 minutes 55 seconds)\"]' data-show='true'><div id = 'default' /></div></div>"
      ],
      "text/plain": [
       "<Result 'C:\\\\Users\\\\gisse015\\\\Documents\\\\ArcGIS\\\\Projects\\\\PuertoRico_Script\\\\PuertoRico_Script.gdb\\\\PuertoRico_1km_GeneralizedLinearRegression_GWR'>"
      ]
     },
     "execution_count": 14,
     "metadata": {},
     "output_type": "execute_result"
    }
   ],
   "source": [
    "arcpy.stats.GWR(\"PuertoRico_1km\", \"Forest_Cover\", \"CONTINUOUS\", \"Precip;Soil_Productivity;Settlement;PctPov;Slope\", r\"C:\\Users\\gisse015\\Documents\\ArcGIS\\Projects\\PuertoRico_Script\\PuertoRico_Script.gdb\\PuertoRico_1km_GWR\", \"NUMBER_OF_NEIGHBORS\", \"GOLDEN_SEARCH\", None, None, None, None, None, None, None, None, None, None, None, None, \"ROBUST\", \"GAUSSIAN\", None, None)\n"
   ]
  },
  {
   "cell_type": "code",
   "execution_count": 15,
   "metadata": {},
   "outputs": [
    {
     "data": {
      "text/html": [
       "<div class='gpresult'><h2>Messages</h2><div id='messages' data-messages='[\"Start Time: Saturday, December 17, 2022 12:25:08 PM\",\"WARNING 001605: Distances for Geographic Coordinates (degrees, minutes, seconds) are analyzed using Chordal Distances in meters.\",[{\"element\":\"table\",\"data\":[[\"Number of Neighbors\",\"AICc\"],[\"30\",\"2781.3336\"],[\"386\",\"2958.2448\"],[\"166\",\"2867.7202\"],[\"250\",\"2915.1361\"],[\"114\",\"2826.9658\"],[\"82\",\"2791.7594\"],[\"62\",\"2764.9875\"],[\"50\",\"2751.1120\"],[\"42\",\"2746.3354\"],[\"38\",\"2746.7981\"],[\"45\",\"2750.4031\"],[\"40\",\"2744.3321\"],[\"39\",\"2742.6777\"]],\"elementProps\":{\"striped\":\"true\",\"title\":\"Golden Search Results\",\"0\":{\"align\":\"left\",\"pad\":\"0px\",\"wrap\":true},\"1\":{\"align\":\"right\",\"pad\":\"0px\",\"wrap\":true}}}],\"\",[{\"element\":\"table\",\"data\":[[\"Number of Features\",\"386\"],[\"Dependent Variable\",\"FOREST_COVER\"],[{\"data\":\"Explanatory Variables\",\"prop\":{\"rowspan\":5}},\"PRECIP\"],[{\"data\":\"SOIL_PRODUCTIVITY\",\"prop\":{\"text-align\":\"right\"}}],[{\"data\":\"SETTLEMENT\",\"prop\":{\"text-align\":\"right\"}}],[{\"data\":\"PROTECTED\",\"prop\":{\"text-align\":\"right\"}}],[{\"data\":\"SLOPE\",\"prop\":{\"text-align\":\"right\"}}],[\"Number of Neighbors\",\"39\"]],\"elementProps\":{\"striped\":\"true\",\"noHeader\":true,\"title\":\"Analysis Details\",\"0\":{\"align\":\"left\",\"pad\":\"0px\",\"wrap\":true},\"1\":{\"align\":\"right\",\"pad\":\"0px\",\"wrap\":true}}}],[{\"element\":\"table\",\"data\":[[\"R2\",\"0.9459\"],[\"AdjR2\",\"0.9153\"],[\"AICc\",\"2742.6777\"],[\"Sigma-Squared\",\"49.4723\"],[\"Sigma-Squared MLE\",\"31.6434\"],[\"Effective Degrees of Freedom\",\"246.8927\"],[\"Adjusted Critical Value of Pseudo-t Statistics\",\"3.0172\"]],\"elementProps\":{\"striped\":\"true\",\"noHeader\":true,\"title\":\"Model Diagnostics\",\"0\":{\"align\":\"left\",\"pad\":\"0px\",\"wrap\":true},\"1\":{\"align\":\"right\",\"pad\":\"0px\",\"wrap\":true}}}],\"\",\"Succeeded at Saturday, December 17, 2022 12:25:14 PM (Elapsed Time: 5.81 seconds)\"]' data-show='true'><div id = 'default' /></div></div>"
      ],
      "text/plain": [
       "<Result 'C:\\\\Users\\\\gisse015\\\\Documents\\\\ArcGIS\\\\Projects\\\\PuertoRico_Script\\\\PuertoRico_Script.gdb\\\\PuertoRico_5km_GWR'>"
      ]
     },
     "execution_count": 15,
     "metadata": {},
     "output_type": "execute_result"
    }
   ],
   "source": [
    "arcpy.stats.GWR(\"PuertoRico_5km_GeneralizedLinearRegression\", \"Forest_Cover\", \"CONTINUOUS\", \"Precip;Soil_Productivity;Settlement;Protected;Slope\", r\"C:\\Users\\gisse015\\Documents\\ArcGIS\\Projects\\PuertoRico_Script\\PuertoRico_Script.gdb\\PuertoRico_5km_GWR\", \"NUMBER_OF_NEIGHBORS\", \"GOLDEN_SEARCH\", None, None, None, None, None, None, None, None, None, None, None, None, \"ROBUST\", \"BISQUARE\", None, None)"
   ]
  }
 ],
 "metadata": {
  "kernelspec": {
   "display_name": "ArcGISPro",
   "language": "Python",
   "name": "python3"
  },
  "language_info": {
   "file_extension": ".py",
   "name": "python",
   "version": "3"
  }
 },
 "nbformat": 4,
 "nbformat_minor": 2
}
