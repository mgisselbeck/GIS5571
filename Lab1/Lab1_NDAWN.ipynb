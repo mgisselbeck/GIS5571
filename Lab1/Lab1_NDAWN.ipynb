{
 "cells": [
  {
   "cell_type": "code",
   "execution_count": 6,
   "metadata": {},
   "outputs": [],
   "source": [
    "import arcpy"
   ]
  },
  {
   "cell_type": "code",
   "execution_count": 7,
   "metadata": {},
   "outputs": [],
   "source": [
    "import requests\n",
    "import datetime\n",
    "import numpy as np\n",
    "import pandas as pd\n",
    "import os"
   ]
  },
  {
   "cell_type": "code",
   "execution_count": 8,
   "metadata": {},
   "outputs": [
    {
     "name": "stdout",
     "output_type": "stream",
     "text": [
      "   Station Name  Latitude (deg)  ...  Dew Point  Wind Chill\n",
      "0        Eldred       47.688000  ...    -21.330     -25.014\n",
      "1        Perley       47.179000  ...    -22.237     -27.168\n",
      "2      Humboldt       48.884000  ...    -18.255     -25.728\n",
      "3       Stephen       48.456750  ...    -18.793     -29.209\n",
      "4        Warren       48.137000  ...    -18.820     -26.745\n",
      "..          ...             ...  ...        ...         ...\n",
      "86        Alamo       48.546510  ...    -27.607     -24.100\n",
      "87       Dagmar       48.555903  ...    -30.303     -32.500\n",
      "88     Redstone       48.821094  ...    -25.798     -24.737\n",
      "89       Dooley       48.833729  ...    -23.843     -35.945\n",
      "90         Hope       47.368352  ...    -17.450     -28.357\n",
      "\n",
      "[91 rows x 18 columns]\n"
     ]
    }
   ],
   "source": [
    "import pandas as pd\n",
    "\n",
    "df = pd.read_csv (r'C:\\Users\\gisse015\\Documents\\ArcGIS\\Projects\\Lab1\\ndawn_1.csv')   #read the csv file (put 'r' before the path string to address any special characters in the path, such as '\\'). Don't forget to put the file name at the end of the path + \".csv\"\n",
    "print (df)"
   ]
  },
  {
   "cell_type": "code",
   "execution_count": 10,
   "metadata": {},
   "outputs": [
    {
     "name": "stdout",
     "output_type": "stream",
     "text": [
      "   Station Name  Latitude  ...  Number Missing.1  Number Estimated.1\n",
      "0       Zeeland  46.01351  ...               0.0                 0.0\n",
      "1           NaN       NaN  ...               NaN                 NaN\n",
      "2       Zeeland  46.01351  ...               0.0                 0.0\n",
      "3           NaN       NaN  ...               NaN                 NaN\n",
      "4       Zeeland  46.01351  ...               0.0                 0.0\n",
      "..          ...       ...  ...               ...                 ...\n",
      "58      Zeeland  46.01351  ...               0.0                 0.0\n",
      "59          NaN       NaN  ...               NaN                 NaN\n",
      "60      Zeeland  46.01351  ...               0.0                 1.0\n",
      "61          NaN       NaN  ...               NaN                 NaN\n",
      "62      Zeeland  46.01351  ...               0.0                 0.0\n",
      "\n",
      "[63 rows x 13 columns]\n"
     ]
    }
   ],
   "source": [
    "import pandas as pd\n",
    "\n",
    "df = pd.read_csv (r'C:\\Users\\gisse015\\Documents\\ArcGIS\\Projects\\Lab1\\ndawnnew.csv')\n",
    "print (df)"
   ]
  },
  {
   "cell_type": "code",
   "execution_count": 11,
   "metadata": {},
   "outputs": [],
   "source": [
    "base_ndawn_url = \"https://ndawn.ndsu.nodak.edu/table.csv\"\n",
    "\n",
    "master_params = {\"station\" : \"110\",\"variable\" : \"mdavt\", \"dfn\" : \"\",\"year\" : \"2021\",\"ttype\" : \"monthly\", \"quick_pick\" : \"\", \"begin_date\" : \"2020-02\",\"count\" : \"122\"}"
   ]
  },
  {
   "cell_type": "code",
   "execution_count": 12,
   "metadata": {},
   "outputs": [],
   "source": [
    "req_response = requests.get(base_ndawn_url, params = master_params)\n",
    "\n",
    "with open(\"ndawnnew.csv\", \"w\") as newCSV_txt:\n",
    "    newCSV_txt.write(req_response.content.decode('utf-8'))"
   ]
  },
  {
   "cell_type": "code",
   "execution_count": 13,
   "metadata": {},
   "outputs": [
    {
     "data": {
      "text/html": [
       "<div>\n",
       "<style scoped>\n",
       "    .dataframe tbody tr th:only-of-type {\n",
       "        vertical-align: middle;\n",
       "    }\n",
       "\n",
       "    .dataframe tbody tr th {\n",
       "        vertical-align: top;\n",
       "    }\n",
       "\n",
       "    .dataframe thead th {\n",
       "        text-align: right;\n",
       "    }\n",
       "</style>\n",
       "<table border=\"1\" class=\"dataframe\">\n",
       "  <thead>\n",
       "    <tr style=\"text-align: right;\">\n",
       "      <th></th>\n",
       "      <th></th>\n",
       "      <th></th>\n",
       "      <th></th>\n",
       "      <th></th>\n",
       "      <th></th>\n",
       "      <th></th>\n",
       "      <th></th>\n",
       "      <th></th>\n",
       "      <th></th>\n",
       "      <th></th>\n",
       "      <th></th>\n",
       "      <th>Flag Definition Line: M - Missing; E - Estimated; N/A - Not Available</th>\n",
       "    </tr>\n",
       "  </thead>\n",
       "  <tbody>\n",
       "    <tr>\n",
       "      <th>Station Name</th>\n",
       "      <th>Latitude</th>\n",
       "      <th>Longitude</th>\n",
       "      <th>Elevation</th>\n",
       "      <th>Year</th>\n",
       "      <th>Month</th>\n",
       "      <th>Avg Temp</th>\n",
       "      <th>Number Missing</th>\n",
       "      <th>Number Estimated</th>\n",
       "      <th>Monthly Normal Average Air Temperature</th>\n",
       "      <th>Departure from Normal Monthly Average Air Temperature</th>\n",
       "      <th>Number Missing</th>\n",
       "      <td>Number Estimated</td>\n",
       "    </tr>\n",
       "    <tr>\n",
       "      <th>NaN</th>\n",
       "      <th>deg</th>\n",
       "      <th>deg</th>\n",
       "      <th>ft</th>\n",
       "      <th>NaN</th>\n",
       "      <th>NaN</th>\n",
       "      <th>Degrees F</th>\n",
       "      <th>NaN</th>\n",
       "      <th>NaN</th>\n",
       "      <th>Degrees F</th>\n",
       "      <th>Degrees F</th>\n",
       "      <th>NaN</th>\n",
       "      <td>NaN</td>\n",
       "    </tr>\n",
       "    <tr>\n",
       "      <th rowspan=\"3\" valign=\"top\">Zeeland</th>\n",
       "      <th rowspan=\"3\" valign=\"top\">46.01351</th>\n",
       "      <th rowspan=\"3\" valign=\"top\">-99.68768</th>\n",
       "      <th rowspan=\"3\" valign=\"top\">2070</th>\n",
       "      <th rowspan=\"3\" valign=\"top\">2020</th>\n",
       "      <th>2</th>\n",
       "      <th>15.701</th>\n",
       "      <th>0</th>\n",
       "      <th>0</th>\n",
       "      <th>15.50</th>\n",
       "      <th>0.201</th>\n",
       "      <th>0</th>\n",
       "      <td>0</td>\n",
       "    </tr>\n",
       "    <tr>\n",
       "      <th>3</th>\n",
       "      <th>29.808</th>\n",
       "      <th>0</th>\n",
       "      <th>0</th>\n",
       "      <th>27.61</th>\n",
       "      <th>2.198</th>\n",
       "      <th>0</th>\n",
       "      <td>0</td>\n",
       "    </tr>\n",
       "    <tr>\n",
       "      <th>4</th>\n",
       "      <th>37.843</th>\n",
       "      <th>0</th>\n",
       "      <th>0</th>\n",
       "      <th>41.11</th>\n",
       "      <th>-3.267</th>\n",
       "      <th>0</th>\n",
       "      <td>0</td>\n",
       "    </tr>\n",
       "  </tbody>\n",
       "</table>\n",
       "</div>"
      ],
      "text/plain": [
       "                                                                                                                                                                                                        Flag Definition Line: M - Missing; E - Estimated; N/A - Not Available\n",
       "Station Name Latitude Longitude Elevation Year Month Avg Temp  Number Missing Number Estimated Monthly Normal Average Air Temperature Departure from Normal Monthly Average Air Tempe... Number Missing                                   Number Estimated                   \n",
       "NaN          deg      deg       ft        NaN  NaN   Degrees F NaN            NaN              Degrees F                              Degrees F                                          NaN                                                           NaN                   \n",
       "Zeeland      46.01351 -99.68768 2070      2020 2     15.701    0              0                15.50                                  0.201                                              0                                                               0                   \n",
       "                                               3     29.808    0              0                27.61                                  2.198                                              0                                                               0                   \n",
       "                                               4     37.843    0              0                41.11                                  -3.267                                             0                                                               0                   "
      ]
     },
     "execution_count": 13,
     "metadata": {},
     "output_type": "execute_result"
    }
   ],
   "source": [
    "peek = pd.read_csv('ndawnnew.csv', skiprows = 3)\n",
    "peek.head()"
   ]
  },
  {
   "cell_type": "markdown",
   "metadata": {},
   "source": [
    "# 2"
   ]
  },
  {
   "cell_type": "code",
   "execution_count": 14,
   "metadata": {},
   "outputs": [],
   "source": [
    "import pandas as pd"
   ]
  },
  {
   "cell_type": "code",
   "execution_count": 15,
   "metadata": {},
   "outputs": [],
   "source": [
    "base_ndawn_url = \"https://ndawn.ndsu.nodak.edu/table.csv\"\n",
    "\n",
    "master_params = {\"station\" : \"110\",\"variable\" : \"mdavt\", \"dfn\" : \"\",\"year\" : \"2019\",\"ttype\" : \"monthly\", \"quick_pick\" : \"\", \"begin_date\" : \"2019-02\",\"count\" : \"122\"}"
   ]
  },
  {
   "cell_type": "code",
   "execution_count": 18,
   "metadata": {},
   "outputs": [],
   "source": [
    "req_response = requests.get(base_ndawn_url, params = master_params)\n",
    "\n",
    "with open(\"ndawnnew3.csv\", \"w\") as newCSV_txt:\n",
    "    newCSV_txt.write(req_response.content.decode('utf-8'))"
   ]
  },
  {
   "cell_type": "code",
   "execution_count": 306,
   "metadata": {},
   "outputs": [
    {
     "data": {
      "text/html": [
       "<div>\n",
       "<style scoped>\n",
       "    .dataframe tbody tr th:only-of-type {\n",
       "        vertical-align: middle;\n",
       "    }\n",
       "\n",
       "    .dataframe tbody tr th {\n",
       "        vertical-align: top;\n",
       "    }\n",
       "\n",
       "    .dataframe thead th {\n",
       "        text-align: right;\n",
       "    }\n",
       "</style>\n",
       "<table border=\"1\" class=\"dataframe\">\n",
       "  <thead>\n",
       "    <tr style=\"text-align: right;\">\n",
       "      <th></th>\n",
       "      <th></th>\n",
       "      <th></th>\n",
       "      <th></th>\n",
       "      <th></th>\n",
       "      <th></th>\n",
       "      <th></th>\n",
       "      <th></th>\n",
       "      <th></th>\n",
       "      <th></th>\n",
       "      <th></th>\n",
       "      <th></th>\n",
       "      <th>Flag Definition Line: M - Missing; E - Estimated; N/A - Not Available</th>\n",
       "    </tr>\n",
       "  </thead>\n",
       "  <tbody>\n",
       "    <tr>\n",
       "      <th>Station Name</th>\n",
       "      <th>Latitude</th>\n",
       "      <th>Longitude</th>\n",
       "      <th>Elevation</th>\n",
       "      <th>Year</th>\n",
       "      <th>Month</th>\n",
       "      <th>Avg Temp</th>\n",
       "      <th>Number Missing</th>\n",
       "      <th>Number Estimated</th>\n",
       "      <th>Monthly Normal Average Air Temperature</th>\n",
       "      <th>Departure from Normal Monthly Average Air Temperature</th>\n",
       "      <th>Number Missing</th>\n",
       "      <td>Number Estimated</td>\n",
       "    </tr>\n",
       "    <tr>\n",
       "      <th>NaN</th>\n",
       "      <th>deg</th>\n",
       "      <th>deg</th>\n",
       "      <th>ft</th>\n",
       "      <th>NaN</th>\n",
       "      <th>NaN</th>\n",
       "      <th>Degrees F</th>\n",
       "      <th>NaN</th>\n",
       "      <th>NaN</th>\n",
       "      <th>Degrees F</th>\n",
       "      <th>Degrees F</th>\n",
       "      <th>NaN</th>\n",
       "      <td>NaN</td>\n",
       "    </tr>\n",
       "    <tr>\n",
       "      <th rowspan=\"3\" valign=\"top\">Zeeland</th>\n",
       "      <th rowspan=\"3\" valign=\"top\">46.01351</th>\n",
       "      <th rowspan=\"3\" valign=\"top\">-99.68768</th>\n",
       "      <th rowspan=\"3\" valign=\"top\">2070</th>\n",
       "      <th rowspan=\"3\" valign=\"top\">2019</th>\n",
       "      <th>2</th>\n",
       "      <th>-1.721</th>\n",
       "      <th>0</th>\n",
       "      <th>28</th>\n",
       "      <th>15.50</th>\n",
       "      <th>-17.221</th>\n",
       "      <th>0</th>\n",
       "      <td>28</td>\n",
       "    </tr>\n",
       "    <tr>\n",
       "      <th>3</th>\n",
       "      <th>19.247</th>\n",
       "      <th>0</th>\n",
       "      <th>31</th>\n",
       "      <th>27.61</th>\n",
       "      <th>-8.363</th>\n",
       "      <th>0</th>\n",
       "      <td>31</td>\n",
       "    </tr>\n",
       "    <tr>\n",
       "      <th>4</th>\n",
       "      <th>41.227</th>\n",
       "      <th>0</th>\n",
       "      <th>30</th>\n",
       "      <th>41.11</th>\n",
       "      <th>0.117</th>\n",
       "      <th>0</th>\n",
       "      <td>30</td>\n",
       "    </tr>\n",
       "  </tbody>\n",
       "</table>\n",
       "</div>"
      ],
      "text/plain": [
       "                                                                                                                                                                                                        Flag Definition Line: M - Missing; E - Estimated; N/A - Not Available\n",
       "Station Name Latitude Longitude Elevation Year Month Avg Temp  Number Missing Number Estimated Monthly Normal Average Air Temperature Departure from Normal Monthly Average Air Tempe... Number Missing                                   Number Estimated                   \n",
       "NaN          deg      deg       ft        NaN  NaN   Degrees F NaN            NaN              Degrees F                              Degrees F                                          NaN                                                           NaN                   \n",
       "Zeeland      46.01351 -99.68768 2070      2019 2     -1.721    0              28               15.50                                  -17.221                                            0                                                              28                   \n",
       "                                               3     19.247    0              31               27.61                                  -8.363                                             0                                                              31                   \n",
       "                                               4     41.227    0              30               41.11                                  0.117                                              0                                                              30                   "
      ]
     },
     "execution_count": 306,
     "metadata": {},
     "output_type": "execute_result"
    }
   ],
   "source": [
    "peek = pd.read_csv('ndawnnew2.csv', skiprows = 3)\n",
    "peek.head()=[]"
   ]
  },
  {
   "cell_type": "code",
   "execution_count": 275,
   "metadata": {
    "scrolled": true
   },
   "outputs": [
    {
     "name": "stdout",
     "output_type": "stream",
     "text": [
      "                                                    0\n",
      "0   Data from North Dakota Agricultural Weather Ne...\n",
      "1       Monthly Observation Table for February 1 2020\n",
      "2   Flag Definition Line: M - Missing; E - Estimat...\n",
      "3   Station Name,Latitude,Longitude,Elevation,Year...\n",
      "4     ,deg,deg,ft,,,Degrees F,,,Degrees F,Degrees F,,\n",
      "5   Zeeland,46.01351,-99.68768,2070,2020,2,15.701,...\n",
      "6   Zeeland,46.01351,-99.68768,2070,2020,3,29.808,...\n",
      "7   Zeeland,46.01351,-99.68768,2070,2020,4,37.843,...\n",
      "8   Zeeland,46.01351,-99.68768,2070,2020,5,52.073,...\n",
      "9   Zeeland,46.01351,-99.68768,2070,2020,6,67.751,...\n",
      "10  Zeeland,46.01351,-99.68768,2070,2020,7,71.383,...\n",
      "11  Zeeland,46.01351,-99.68768,2070,2020,8,68.614,...\n",
      "12  Zeeland,46.01351,-99.68768,2070,2020,9,55.591,...\n",
      "13  Zeeland,46.01351,-99.68768,2070,2020,10,35.849...\n",
      "14  Zeeland,46.01351,-99.68768,2070,2020,11,32.055...\n",
      "15  Zeeland,46.01351,-99.68768,2070,2020,12,22.020...\n",
      "16  Zeeland,46.01351,-99.68768,2070,2021,1,22.072,...\n",
      "17  Zeeland,46.01351,-99.68768,2070,2021,2,6.279,0...\n",
      "18  Zeeland,46.01351,-99.68768,2070,2021,3,35.949,...\n",
      "19  Zeeland,46.01351,-99.68768,2070,2021,4,39.212,...\n",
      "20  Zeeland,46.01351,-99.68768,2070,2021,5,52.352,...\n",
      "21  Zeeland,46.01351,-99.68768,2070,2021,6,67.989,...\n",
      "22  Zeeland,46.01351,-99.68768,2070,2021,7,72.565,...\n",
      "23  Zeeland,46.01351,-99.68768,2070,2021,8,69.066,...\n",
      "24  Zeeland,46.01351,-99.68768,2070,2021,9,61.380,...\n",
      "25  Zeeland,46.01351,-99.68768,2070,2021,10,47.389...\n",
      "26  Zeeland,46.01351,-99.68768,2070,2021,11,32.627...\n",
      "27  Zeeland,46.01351,-99.68768,2070,2021,12,13.598...\n",
      "28  Zeeland,46.01351,-99.68768,2070,2022,1,8.882,0...\n",
      "29  Zeeland,46.01351,-99.68768,2070,2022,2,10.558,...\n",
      "30  Zeeland,46.01351,-99.68768,2070,2022,3,27.794,...\n",
      "31  Zeeland,46.01351,-99.68768,2070,2022,4,34.811,...\n",
      "32  Zeeland,46.01351,-99.68768,2070,2022,5,52.737,...\n",
      "33  Zeeland,46.01351,-99.68768,2070,2022,6,63.395,...\n",
      "34  Zeeland,46.01351,-99.68768,2070,2022,7,69.275,...\n",
      "35  Zeeland,46.01351,-99.68768,2070,2022,8,69.059,...\n",
      "36  Zeeland,46.01351,-99.68768,2070,2022,9,59.497,...\n"
     ]
    }
   ],
   "source": [
    "import pandas as pd\n",
    "\n",
    "df = pd.read_csv (r'C:\\Users\\gisse015\\Documents\\ArcGIS\\Projects\\Lab1\\ndawnnew.csv', sep ='you_delimiter', header=None, engine='python')\n",
    "print (df)"
   ]
  },
  {
   "cell_type": "markdown",
   "metadata": {},
   "source": [
    "# TabletoTable"
   ]
  },
  {
   "cell_type": "code",
   "execution_count": 1,
   "metadata": {},
   "outputs": [
    {
     "data": {
      "text/html": [
       "<h2>Output</h2>C:\\Users\\gisse015\\Documents\\ArcGIS\\Projects\\Lab1\\Lab1.gdb\\ndawn_1<h2>Messages</h2>Start Time: Wednesday, October 5, 2022 4:11:30 PM<br/>Succeeded at Wednesday, October 5, 2022 4:11:30 PM (Elapsed Time: 0.45 seconds)<br/><style>.rendered_html td, .rendered_html th {text-align: left;}.rendered_html tbody {border: 1px solid black;}</style>"
      ],
      "text/plain": [
       "<Result 'C:\\\\Users\\\\gisse015\\\\Documents\\\\ArcGIS\\\\Projects\\\\Lab1\\\\Lab1.gdb\\\\ndawn_1'>"
      ]
     },
     "execution_count": 1,
     "metadata": {},
     "output_type": "execute_result"
    }
   ],
   "source": [
    "arcpy.conversion.TableToTable(r\"C:\\Users\\gisse015\\Documents\\ArcGIS\\Projects\\Lab1\\ndawnnew.csv\", r\"C:\\Users\\gisse015\\Documents\\ArcGIS\\Projects\\Lab1\\Lab1.gdb\", \"ndawn_1\", '', r'Station Name \"Station Name\" true true false 8000 Text 0 0,First,#,C:\\Users\\gisse015\\Documents\\ArcGIS\\Projects\\Lab1\\ndawnnew.csv,Station Name,0,8000;Latitude \"Latitude\" true true false 8 Double 0 0,First,#,C:\\Users\\gisse015\\Documents\\ArcGIS\\Projects\\Lab1\\ndawnnew.csv,Latitude,-1,-1;Longitude \"Longitude\" true true false 8 Double 0 0,First,#,C:\\Users\\gisse015\\Documents\\ArcGIS\\Projects\\Lab1\\ndawnnew.csv,Longitude,-1,-1;Elevation \"Elevation\" true true false 4 Long 0 0,First,#,C:\\Users\\gisse015\\Documents\\ArcGIS\\Projects\\Lab1\\ndawnnew.csv,Elevation,-1,-1;Year \"Year\" true true false 4 Long 0 0,First,#,C:\\Users\\gisse015\\Documents\\ArcGIS\\Projects\\Lab1\\ndawnnew.csv,Year,-1,-1;Month \"Month\" true true false 4 Long 0 0,First,#,C:\\Users\\gisse015\\Documents\\ArcGIS\\Projects\\Lab1\\ndawnnew.csv,Month,-1,-1;Avg Temp \"Avg Temp\" true true false 8 Double 0 0,First,#,C:\\Users\\gisse015\\Documents\\ArcGIS\\Projects\\Lab1\\ndawnnew.csv,Avg Temp,-1,-1;Number Missing \"Number Missing\" true true false 4 Long 0 0,First,#,C:\\Users\\gisse015\\Documents\\ArcGIS\\Projects\\Lab1\\ndawnnew.csv,Number Missing,-1,-1,C:\\Users\\gisse015\\Documents\\ArcGIS\\Projects\\Lab1\\ndawnnew.csv,Number Missing,-1,-1;Number Estimated \"Number Estimated\" true true false 4 Long 0 0,First,#,C:\\Users\\gisse015\\Documents\\ArcGIS\\Projects\\Lab1\\ndawnnew.csv,Number Estimated,-1,-1,C:\\Users\\gisse015\\Documents\\ArcGIS\\Projects\\Lab1\\ndawnnew.csv,Number Estimated,-1,-1;Monthly Normal Average Air Temperature \"Monthly Normal Average Air Temperature\" true true false 8 Double 0 0,First,#,C:\\Users\\gisse015\\Documents\\ArcGIS\\Projects\\Lab1\\ndawnnew.csv,Monthly Normal Average Air Temperature,-1,-1;Departure from Normal Monthly Average Air Temperature \"Departure from Normal Monthly Average Air Temperature\" true true false 8 Double 0 0,First,#,C:\\Users\\gisse015\\Documents\\ArcGIS\\Projects\\Lab1\\ndawnnew.csv,Departure from Normal Monthly Average Air Temperature,-1,-1', '')"
   ]
  },
  {
   "cell_type": "code",
   "execution_count": 2,
   "metadata": {},
   "outputs": [
    {
     "data": {
      "text/html": [
       "<h2>Output</h2>C:\\Users\\gisse015\\Documents\\ArcGIS\\Projects\\Lab1\\Lab1.gdb\\ndawn_2<h2>Messages</h2>Start Time: Wednesday, October 5, 2022 4:13:38 PM<br/>Succeeded at Wednesday, October 5, 2022 4:13:39 PM (Elapsed Time: 0.65 seconds)<br/><style>.rendered_html td, .rendered_html th {text-align: left;}.rendered_html tbody {border: 1px solid black;}</style>"
      ],
      "text/plain": [
       "<Result 'C:\\\\Users\\\\gisse015\\\\Documents\\\\ArcGIS\\\\Projects\\\\Lab1\\\\Lab1.gdb\\\\ndawn_2'>"
      ]
     },
     "execution_count": 2,
     "metadata": {},
     "output_type": "execute_result"
    }
   ],
   "source": [
    "arcpy.conversion.TableToTable(r\"C:\\Users\\gisse015\\Documents\\ArcGIS\\Projects\\Lab1\\ndawnnew2.csv\", r\"C:\\Users\\gisse015\\Documents\\ArcGIS\\Projects\\Lab1\\Lab1.gdb\", \"ndawn_2\", '', r'Station Name \"Station Name\" true true false 8000 Text 0 0,First,#,C:\\Users\\gisse015\\Documents\\ArcGIS\\Projects\\Lab1\\ndawnnew2.csv,Station Name,0,8000;LAT \"LAT\" true true false 8 Double 0 0,First,#,C:\\Users\\gisse015\\Documents\\ArcGIS\\Projects\\Lab1\\ndawnnew2.csv,LAT,-1,-1;LONG \"LONG\" true true false 8 Double 0 0,First,#,C:\\Users\\gisse015\\Documents\\ArcGIS\\Projects\\Lab1\\ndawnnew2.csv,LONG,-1,-1;Elevation \"Elevation\" true true false 4 Long 0 0,First,#,C:\\Users\\gisse015\\Documents\\ArcGIS\\Projects\\Lab1\\ndawnnew2.csv,Elevation,-1,-1;Year \"Year\" true true false 4 Long 0 0,First,#,C:\\Users\\gisse015\\Documents\\ArcGIS\\Projects\\Lab1\\ndawnnew2.csv,Year,-1,-1;Month \"Month\" true true false 4 Long 0 0,First,#,C:\\Users\\gisse015\\Documents\\ArcGIS\\Projects\\Lab1\\ndawnnew2.csv,Month,-1,-1;Avg Temp \"Avg Temp\" true true false 8 Double 0 0,First,#,C:\\Users\\gisse015\\Documents\\ArcGIS\\Projects\\Lab1\\ndawnnew2.csv,Avg Temp,-1,-1;Number Missing \"Number Missing\" true true false 4 Long 0 0,First,#,C:\\Users\\gisse015\\Documents\\ArcGIS\\Projects\\Lab1\\ndawnnew2.csv,Number Missing,-1,-1,C:\\Users\\gisse015\\Documents\\ArcGIS\\Projects\\Lab1\\ndawnnew2.csv,Number Missing,-1,-1;Number Estimated \"Number Estimated\" true true false 4 Long 0 0,First,#,C:\\Users\\gisse015\\Documents\\ArcGIS\\Projects\\Lab1\\ndawnnew2.csv,Number Estimated,-1,-1,C:\\Users\\gisse015\\Documents\\ArcGIS\\Projects\\Lab1\\ndawnnew2.csv,Number Estimated,-1,-1;Monthly Normal Average Air Temperature \"Monthly Normal Average Air Temperature\" true true false 8 Double 0 0,First,#,C:\\Users\\gisse015\\Documents\\ArcGIS\\Projects\\Lab1\\ndawnnew2.csv,Monthly Normal Average Air Temperature,-1,-1;Departure from Normal Monthly Average Air Temperature \"Departure from Normal Monthly Average Air Temperature\" true true false 8 Double 0 0,First,#,C:\\Users\\gisse015\\Documents\\ArcGIS\\Projects\\Lab1\\ndawnnew2.csv,Departure from Normal Monthly Average Air Temperature,-1,-1', '')"
   ]
  },
  {
   "cell_type": "markdown",
   "metadata": {},
   "source": [
    "# Define Projection"
   ]
  },
  {
   "cell_type": "code",
   "execution_count": 3,
   "metadata": {},
   "outputs": [
    {
     "data": {
      "text/html": [
       "<h2>Output</h2>C:\\Users\\gisse015\\Documents\\ArcGIS\\Projects\\Lab1\\Lab1.gdb\\ndawn_1_XYTableToPoint<h2>Messages</h2>Start Time: Wednesday, October 5, 2022 4:18:08 PM<br/>WARNING 100160: Some of the features have invalid geometry and have been removed from the result<br/>WARNING 000192: Invalid value for rows: 2, 4, 6, 8, 10, 12, 14, 16, 18, 20, 22, 24, 26, 28, 30, 32, 34, 36, 38, 40, 42, 44, 46, 48, 50, 52, 54, 56, 58, 60, 62<br/>Succeeded at Wednesday, October 5, 2022 4:18:09 PM (Elapsed Time: 1.33 seconds)<br/><style>.rendered_html td, .rendered_html th {text-align: left;}.rendered_html tbody {border: 1px solid black;}</style>"
      ],
      "text/plain": [
       "<Result 'C:\\\\Users\\\\gisse015\\\\Documents\\\\ArcGIS\\\\Projects\\\\Lab1\\\\Lab1.gdb\\\\ndawn_1_XYTableToPoint'>"
      ]
     },
     "execution_count": 3,
     "metadata": {},
     "output_type": "execute_result"
    }
   ],
   "source": [
    "arcpy.management.XYTableToPoint(\"ndawn_1\", r\"C:\\Users\\gisse015\\Documents\\ArcGIS\\Projects\\Lab1\\Lab1.gdb\\ndawn_1_XYTableToPoint\", \"Longitude\", \"Latitude\", None, 'GEOGCS[\"GCS_WGS_1984\",DATUM[\"D_WGS_1984\",SPHEROID[\"WGS_1984\",6378137.0,298.257223563]],PRIMEM[\"Greenwich\",0.0],UNIT[\"Degree\",0.0174532925199433]];-400 -400 1000000000;-100000 10000;-100000 10000;8.98315284119521E-09;0.001;0.001;IsHighPrecision')"
   ]
  },
  {
   "cell_type": "code",
   "execution_count": null,
   "metadata": {},
   "outputs": [],
   "source": [
    "arcpy.ba.FindNearbyLocations(\"ndawn_2_1\", \"Station\", \"ndawn_1_XYTableToPoint\", r\"C:\\Users\\gisse015\\Documents\\ArcGIS\\Projects\\Lab1\\Lab1.gdb\\ndawn_2_1_FindNearbyLocations\", \"STRAIGHT_LINE_DISTANCE\", \"MILES\", 50, None, None, \"DO_NOT_CREATE_REPORT\", '', None, None, None, \"TOWARD_STORES\", None, \"TIME_ZONE_AT_LOCATION\", None)"
   ]
  },
  {
   "cell_type": "code",
   "execution_count": 1,
   "metadata": {},
   "outputs": [],
   "source": [
    "with arcpy.EnvManager(scratchWorkspace=r\"C:\\Users\\gisse015\\Documents\\ArcGIS\\Projects\\Lab1\\Lab1.gdb\", workspace=r\"C:\\Users\\gisse015\\Documents\\ArcGIS\\Projects\\Lab1\\Lab1.gdb\"):\n",
    "    arcpy.management.Merge(\"ndawn_1;ndawn_2\", r\"C:\\Users\\gisse015\\Documents\\ArcGIS\\Projects\\Lab1\\Lab1.gdb\\ndawn_1_Merge\", 'Station \"Name\" true true false 4 Long 0 0,First,#,ndawn_1,Station,-1,-1,ndawn_2,Station,-1,-1;Latitude \"Latitude\" true true false 8 Double 0 0,First,#,ndawn_1,Latitude,-1,-1;Longitude \"Longitude\" true true false 8 Double 0 0,First,#,ndawn_1,Longitude,-1,-1;Elevation \"Elevation\" true true false 4 Long 0 0,First,#,ndawn_1,Elevation,-1,-1,ndawn_2,Elevation,-1,-1;Year \"Year\" true true false 4 Long 0 0,First,#,ndawn_1,Year,-1,-1,ndawn_2,Year,-1,-1;Month \"Month\" true true false 4 Long 0 0,First,#,ndawn_1,Month,-1,-1,ndawn_2,Month,-1,-1;Avg \"Temp\" true true false 4 Long 0 0,First,#,ndawn_1,Avg,-1,-1,ndawn_2,Avg,-1,-1;Number \"Missing\" true true false 4 Long 0 0,First,#,ndawn_1,Number,-1,-1,ndawn_2,Number,-1,-1;Number_1 \"Estimated\" true true false 4 Long 0 0,First,#,ndawn_1,Number_1,-1,-1,ndawn_2,Number_1,-1,-1;Monthly \"Normal\" true true false 4 Long 0 0,First,#,ndawn_1,Monthly,-1,-1,ndawn_2,Monthly,-1,-1;Departure \"from\" true true false 4 Long 0 0,First,#,ndawn_1,Departure,-1,-1,ndawn_2,Departure,-1,-1;LAT \"LAT\" true true false 8 Double 0 0,First,#,ndawn_2,LAT,-1,-1;LONG \"LONG\" true true false 8 Double 0 0,First,#,ndawn_2,LONG,-1,-1', \"NO_SOURCE_INFO\")\n"
   ]
  },
  {
   "cell_type": "code",
   "execution_count": 2,
   "metadata": {
    "scrolled": true
   },
   "outputs": [
    {
     "data": {
      "text/html": [
       "<h2>Output</h2>C:\\Users\\gisse015\\Documents\\ArcGIS\\Projects\\Lab1\\Lab1.gdb\\ndawn_1_Merge_XYTableToPoint<h2>Messages</h2>Start Time: Sunday, October 9, 2022 10:44:05 PM<br/>WARNING 100160: Some of the features have invalid geometry and have been removed from the result<br/>WARNING 000192: Invalid value for rows: 2, 4, 6, 8, 10, 12, 14, 16, 18, 20, 22, 24, 26, 28, 30, 32, 34, 36, 38, 40, 42, 44, 46, 48, 50, 52, 54, 56, 58, 60, 62, 64, 65, 66, 67, 68, 69, 70, 71, 72, 73, 74, 75, 76, 77, 78, 79, 80, 81, 82, 83, 84, 85, 86, 87, 88, 89, 90, 91, 92, 93, 94, 95, 96, 97, 98, 99, 100, 101, 102, 103, 104, 105, 106, 107<br/>Succeeded at Sunday, October 9, 2022 10:44:06 PM (Elapsed Time: 0.98 seconds)<br/><style>.rendered_html td, .rendered_html th {text-align: left;}.rendered_html tbody {border: 1px solid black;}</style>"
      ],
      "text/plain": [
       "<Result 'C:\\\\Users\\\\gisse015\\\\Documents\\\\ArcGIS\\\\Projects\\\\Lab1\\\\Lab1.gdb\\\\ndawn_1_Merge_XYTableToPoint'>"
      ]
     },
     "execution_count": 2,
     "metadata": {},
     "output_type": "execute_result"
    }
   ],
   "source": [
    "arcpy.management.XYTableToPoint(\"ndawn_1_Merge\", r\"C:\\Users\\gisse015\\Documents\\ArcGIS\\Projects\\Lab1\\Lab1.gdb\\ndawn_1_Merge_XYTableToPoint\", \"Longitude\", \"Latitude\", None, 'GEOGCS[\"GCS_WGS_1984\",DATUM[\"D_WGS_1984\",SPHEROID[\"WGS_1984\",6378137.0,298.257223563]],PRIMEM[\"Greenwich\",0.0],UNIT[\"Degree\",0.0174532925199433]];-400 -400 1000000000;-100000 10000;-100000 10000;8.98315284119521E-09;0.001;0.001;IsHighPrecision')"
   ]
  },
  {
   "cell_type": "code",
   "execution_count": 15,
   "metadata": {},
   "outputs": [
    {
     "data": {
      "text/html": [
       "<h2>Output</h2>C:\\Users\\gisse015\\Documents\\ArcGIS\\Projects\\Lab1\\Lab1.gdb<h2>Messages</h2>Start Time: Sunday, October 9, 2022 10:57:01 PM<br/>Converted ndawn_1_Merge to C:\\Users\\gisse015\\Documents\\ArcGIS\\Projects\\Lab1\\Lab1.gdb\\ndawn_1_Merge_2 successfully.<br/>Succeeded at Sunday, October 9, 2022 10:57:02 PM (Elapsed Time: 1.01 seconds)<br/><style>.rendered_html td, .rendered_html th {text-align: left;}.rendered_html tbody {border: 1px solid black;}</style>"
      ],
      "text/plain": [
       "<Result 'C:\\\\Users\\\\gisse015\\\\Documents\\\\ArcGIS\\\\Projects\\\\Lab1\\\\Lab1.gdb'>"
      ]
     },
     "execution_count": 15,
     "metadata": {},
     "output_type": "execute_result"
    }
   ],
   "source": [
    "arcpy.conversion.TableToGeodatabase(\"ndawn_1_Merge\", r\"C:\\Users\\gisse015\\Documents\\ArcGIS\\Projects\\Lab1\\Lab1.gdb\")"
   ]
  },
  {
   "cell_type": "code",
   "execution_count": 21,
   "metadata": {},
   "outputs": [
    {
     "data": {
      "text/html": [
       "<div>\n",
       "<style scoped>\n",
       "    .dataframe tbody tr th:only-of-type {\n",
       "        vertical-align: middle;\n",
       "    }\n",
       "\n",
       "    .dataframe tbody tr th {\n",
       "        vertical-align: top;\n",
       "    }\n",
       "\n",
       "    .dataframe thead th {\n",
       "        text-align: right;\n",
       "    }\n",
       "</style>\n",
       "<table border=\"1\" class=\"dataframe\">\n",
       "  <thead>\n",
       "    <tr style=\"text-align: right;\">\n",
       "      <th></th>\n",
       "      <th>OBJECTID</th>\n",
       "      <th>Station</th>\n",
       "      <th>Latitude</th>\n",
       "      <th>Longitude</th>\n",
       "      <th>Elevation</th>\n",
       "      <th>Year</th>\n",
       "      <th>Month</th>\n",
       "      <th>Avg</th>\n",
       "      <th>Number</th>\n",
       "      <th>Number_1</th>\n",
       "      <th>Monthly</th>\n",
       "      <th>Departure</th>\n",
       "      <th>LAT</th>\n",
       "      <th>LONG</th>\n",
       "    </tr>\n",
       "  </thead>\n",
       "  <tbody>\n",
       "    <tr>\n",
       "      <th>0</th>\n",
       "      <td>1</td>\n",
       "      <td>0.0</td>\n",
       "      <td>46.01351</td>\n",
       "      <td>-99.68768</td>\n",
       "      <td>2070.0</td>\n",
       "      <td>2020.0</td>\n",
       "      <td>2.0</td>\n",
       "      <td>16.0</td>\n",
       "      <td>0.0</td>\n",
       "      <td>NaN</td>\n",
       "      <td>16</td>\n",
       "      <td>0</td>\n",
       "      <td>NaN</td>\n",
       "      <td>NaN</td>\n",
       "    </tr>\n",
       "    <tr>\n",
       "      <th>1</th>\n",
       "      <td>2</td>\n",
       "      <td>NaN</td>\n",
       "      <td>NaN</td>\n",
       "      <td>NaN</td>\n",
       "      <td>NaN</td>\n",
       "      <td>NaN</td>\n",
       "      <td>NaN</td>\n",
       "      <td>NaN</td>\n",
       "      <td>NaN</td>\n",
       "      <td>NaN</td>\n",
       "      <td>0</td>\n",
       "      <td>0</td>\n",
       "      <td>NaN</td>\n",
       "      <td>NaN</td>\n",
       "    </tr>\n",
       "    <tr>\n",
       "      <th>2</th>\n",
       "      <td>3</td>\n",
       "      <td>0.0</td>\n",
       "      <td>46.01351</td>\n",
       "      <td>-99.68768</td>\n",
       "      <td>2070.0</td>\n",
       "      <td>2020.0</td>\n",
       "      <td>3.0</td>\n",
       "      <td>30.0</td>\n",
       "      <td>0.0</td>\n",
       "      <td>NaN</td>\n",
       "      <td>28</td>\n",
       "      <td>2</td>\n",
       "      <td>NaN</td>\n",
       "      <td>NaN</td>\n",
       "    </tr>\n",
       "    <tr>\n",
       "      <th>3</th>\n",
       "      <td>4</td>\n",
       "      <td>NaN</td>\n",
       "      <td>NaN</td>\n",
       "      <td>NaN</td>\n",
       "      <td>NaN</td>\n",
       "      <td>NaN</td>\n",
       "      <td>NaN</td>\n",
       "      <td>NaN</td>\n",
       "      <td>NaN</td>\n",
       "      <td>NaN</td>\n",
       "      <td>0</td>\n",
       "      <td>0</td>\n",
       "      <td>NaN</td>\n",
       "      <td>NaN</td>\n",
       "    </tr>\n",
       "    <tr>\n",
       "      <th>4</th>\n",
       "      <td>5</td>\n",
       "      <td>0.0</td>\n",
       "      <td>46.01351</td>\n",
       "      <td>-99.68768</td>\n",
       "      <td>2070.0</td>\n",
       "      <td>2020.0</td>\n",
       "      <td>4.0</td>\n",
       "      <td>38.0</td>\n",
       "      <td>0.0</td>\n",
       "      <td>NaN</td>\n",
       "      <td>41</td>\n",
       "      <td>-3</td>\n",
       "      <td>NaN</td>\n",
       "      <td>NaN</td>\n",
       "    </tr>\n",
       "  </tbody>\n",
       "</table>\n",
       "</div>"
      ],
      "text/plain": [
       "   OBJECTID  Station  Latitude  Longitude  ...  Monthly  Departure  LAT  LONG\n",
       "0         1      0.0  46.01351  -99.68768  ...       16          0  NaN   NaN\n",
       "1         2      NaN       NaN        NaN  ...        0          0  NaN   NaN\n",
       "2         3      0.0  46.01351  -99.68768  ...       28          2  NaN   NaN\n",
       "3         4      NaN       NaN        NaN  ...        0          0  NaN   NaN\n",
       "4         5      0.0  46.01351  -99.68768  ...       41         -3  NaN   NaN\n",
       "\n",
       "[5 rows x 14 columns]"
      ]
     },
     "execution_count": 21,
     "metadata": {},
     "output_type": "execute_result"
    }
   ],
   "source": [
    "import pandas as pd\n",
    "\n",
    "df = pd.read_csv(r'C:\\Users\\gisse015\\Documents\\ArcGIS\\Projects\\Lab1\\ndawn_Join.csv')\n",
    "\n",
    "df.head()"
   ]
  },
  {
   "cell_type": "code",
   "execution_count": null,
   "metadata": {},
   "outputs": [],
   "source": []
  }
 ],
 "metadata": {
  "kernelspec": {
   "display_name": "ArcGISPro",
   "language": "Python",
   "name": "python3"
  },
  "language_info": {
   "file_extension": ".py",
   "name": "python",
   "version": "3"
  }
 },
 "nbformat": 4,
 "nbformat_minor": 2
}
